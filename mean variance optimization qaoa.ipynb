{
 "cells": [
  {
   "cell_type": "code",
   "execution_count": 1,
   "id": "fe460b23-4db3-401c-b820-0a9c622fb5c8",
   "metadata": {},
   "outputs": [],
   "source": [
    "import pandas as pd\n",
    "import numpy as np\n",
    "import math\n",
    "import datetime\n",
    "import matplotlib.pyplot as plt\n",
    "import seaborn as sns\n",
    "from time import sleep as fallasleep\n",
    "import os, sys"
   ]
  },
  {
   "cell_type": "code",
   "execution_count": 3,
   "id": "2b322a66-353b-4c27-9830-ae5a7b100bd9",
   "metadata": {},
   "outputs": [],
   "source": [
    "from source.colortools import color_box"
   ]
  },
  {
   "cell_type": "markdown",
   "id": "3079f015-5fb8-4dec-a5cd-281b1b695279",
   "metadata": {},
   "source": [
    "# Import data from Kraken \n",
    "source: [https://www.kraken.com/]"
   ]
  },
  {
   "cell_type": "code",
   "execution_count": 4,
   "id": "e98e8221-48d6-4020-b329-bbb6b54aa3e2",
   "metadata": {},
   "outputs": [],
   "source": [
    "import krakenex\n",
    "from pykrakenapi import KrakenAPI"
   ]
  },
  {
   "cell_type": "markdown",
   "id": "ea265f9a-7de3-4ba1-ac3e-f526ce9c3f5d",
   "metadata": {},
   "source": [
    "### Choice of coins\n",
    "- Ethereum: smart contract that is powering lots of Dapps.\n",
    "- BTC:      still has the crown of all crypto.\n",
    "- XRP:      fastest transaction speed, that has the most potential being used within the financial institutions.\n",
    "- ADA:      Cardano uses third-generation proof-of-state with a strong focus on sustainability, scalability, and transparency.\n",
    "- DOT:      polkadot is a multichain network that aims to be the central network that connects to other network protocols."
   ]
  },
  {
   "cell_type": "code",
   "execution_count": 5,
   "id": "ee4a000f-5378-4e89-aafc-e831fa5f04b9",
   "metadata": {},
   "outputs": [],
   "source": [
    "api = krakenex.API()\n",
    "k = KrakenAPI(api)\n",
    "coins = [\"ETH\", \"BTC\", \"XRP\", \"ADA\", \"DOT\"]\n",
    "coins = coins[:3]\n",
    "gapmin= 1440\n",
    "coins = [coin+\"USD\" for coin in coins]\n",
    "df = {}\n",
    "colormapper = {}\n",
    "for _,coin in enumerate(coins):\n",
    "    data, last = k.get_ohlc_data(coin, interval = gapmin, ascending = True)\n",
    "    df[coin]=data.drop(['time', 'count'], axis=1)\n",
    "    colormapper[coin] = color_box[_]\n",
    "    fallasleep(1)\n"
   ]
  },
  {
   "cell_type": "code",
   "execution_count": 6,
   "id": "a5e70541-fed2-402c-b04f-5da5f9e9cb8d",
   "metadata": {},
   "outputs": [],
   "source": [
    "df_close = pd.DataFrame(columns=coins)\n",
    "for coin in coins:\n",
    "    df_close[coin] = df[coin]['close']"
   ]
  },
  {
   "cell_type": "code",
   "execution_count": 7,
   "id": "3e222ef2-4284-40f7-ab20-547bfa144650",
   "metadata": {},
   "outputs": [
    {
     "data": {
      "text/plain": [
       "ETHUSD    0\n",
       "BTCUSD    0\n",
       "XRPUSD    0\n",
       "dtype: int64"
      ]
     },
     "execution_count": 7,
     "metadata": {},
     "output_type": "execute_result"
    }
   ],
   "source": [
    "df_close.isna().sum()"
   ]
  },
  {
   "cell_type": "code",
   "execution_count": 8,
   "id": "a49000f9-3a21-4ce3-b1d0-ab89ea2a4747",
   "metadata": {},
   "outputs": [
    {
     "data": {
      "text/plain": [
       "ETHUSD    0\n",
       "BTCUSD    0\n",
       "XRPUSD    0\n",
       "dtype: int64"
      ]
     },
     "execution_count": 8,
     "metadata": {},
     "output_type": "execute_result"
    }
   ],
   "source": [
    "df_close = df_close.dropna()\n",
    "df_close.isna().sum()"
   ]
  },
  {
   "cell_type": "code",
   "execution_count": 9,
   "id": "5ce683ea-cc25-4449-b5ed-8f41edad88b2",
   "metadata": {},
   "outputs": [
    {
     "data": {
      "text/html": [
       "<div>\n",
       "<style scoped>\n",
       "    .dataframe tbody tr th:only-of-type {\n",
       "        vertical-align: middle;\n",
       "    }\n",
       "\n",
       "    .dataframe tbody tr th {\n",
       "        vertical-align: top;\n",
       "    }\n",
       "\n",
       "    .dataframe thead th {\n",
       "        text-align: right;\n",
       "    }\n",
       "</style>\n",
       "<table border=\"1\" class=\"dataframe\">\n",
       "  <thead>\n",
       "    <tr style=\"text-align: right;\">\n",
       "      <th></th>\n",
       "      <th>ETHUSD</th>\n",
       "      <th>BTCUSD</th>\n",
       "      <th>XRPUSD</th>\n",
       "    </tr>\n",
       "    <tr>\n",
       "      <th>dtime</th>\n",
       "      <th></th>\n",
       "      <th></th>\n",
       "      <th></th>\n",
       "    </tr>\n",
       "  </thead>\n",
       "  <tbody>\n",
       "    <tr>\n",
       "      <th>2019-11-29</th>\n",
       "      <td>154.78</td>\n",
       "      <td>7756.8</td>\n",
       "      <td>0.23023</td>\n",
       "    </tr>\n",
       "    <tr>\n",
       "      <th>2019-11-30</th>\n",
       "      <td>151.74</td>\n",
       "      <td>7558.9</td>\n",
       "      <td>0.22594</td>\n",
       "    </tr>\n",
       "    <tr>\n",
       "      <th>2019-12-01</th>\n",
       "      <td>150.76</td>\n",
       "      <td>7398.4</td>\n",
       "      <td>0.22527</td>\n",
       "    </tr>\n",
       "  </tbody>\n",
       "</table>\n",
       "</div>"
      ],
      "text/plain": [
       "            ETHUSD  BTCUSD   XRPUSD\n",
       "dtime                              \n",
       "2019-11-29  154.78  7756.8  0.23023\n",
       "2019-11-30  151.74  7558.9  0.22594\n",
       "2019-12-01  150.76  7398.4  0.22527"
      ]
     },
     "execution_count": 9,
     "metadata": {},
     "output_type": "execute_result"
    }
   ],
   "source": [
    "df_close.head(3)"
   ]
  },
  {
   "cell_type": "code",
   "execution_count": 10,
   "id": "0587300c-a1ad-4169-addb-b57d033dab71",
   "metadata": {},
   "outputs": [
    {
     "data": {
      "text/html": [
       "<div>\n",
       "<style scoped>\n",
       "    .dataframe tbody tr th:only-of-type {\n",
       "        vertical-align: middle;\n",
       "    }\n",
       "\n",
       "    .dataframe tbody tr th {\n",
       "        vertical-align: top;\n",
       "    }\n",
       "\n",
       "    .dataframe thead th {\n",
       "        text-align: right;\n",
       "    }\n",
       "</style>\n",
       "<table border=\"1\" class=\"dataframe\">\n",
       "  <thead>\n",
       "    <tr style=\"text-align: right;\">\n",
       "      <th></th>\n",
       "      <th>ETHUSD</th>\n",
       "      <th>BTCUSD</th>\n",
       "      <th>XRPUSD</th>\n",
       "    </tr>\n",
       "    <tr>\n",
       "      <th>dtime</th>\n",
       "      <th></th>\n",
       "      <th></th>\n",
       "      <th></th>\n",
       "    </tr>\n",
       "  </thead>\n",
       "  <tbody>\n",
       "    <tr>\n",
       "      <th>2019-11-30</th>\n",
       "      <td>-0.019836</td>\n",
       "      <td>-0.025844</td>\n",
       "      <td>-0.018809</td>\n",
       "    </tr>\n",
       "    <tr>\n",
       "      <th>2019-12-01</th>\n",
       "      <td>-0.006479</td>\n",
       "      <td>-0.021462</td>\n",
       "      <td>-0.002970</td>\n",
       "    </tr>\n",
       "    <tr>\n",
       "      <th>2019-12-02</th>\n",
       "      <td>-0.012750</td>\n",
       "      <td>-0.012595</td>\n",
       "      <td>-0.027771</td>\n",
       "    </tr>\n",
       "  </tbody>\n",
       "</table>\n",
       "</div>"
      ],
      "text/plain": [
       "              ETHUSD    BTCUSD    XRPUSD\n",
       "dtime                                   \n",
       "2019-11-30 -0.019836 -0.025844 -0.018809\n",
       "2019-12-01 -0.006479 -0.021462 -0.002970\n",
       "2019-12-02 -0.012750 -0.012595 -0.027771"
      ]
     },
     "execution_count": 10,
     "metadata": {},
     "output_type": "execute_result"
    }
   ],
   "source": [
    "df_close_diff = df_close.apply(np.log).diff().dropna()\n",
    "df_close_diff.head(3)"
   ]
  },
  {
   "cell_type": "code",
   "execution_count": 11,
   "id": "3b707969-12b5-401d-9cc1-1df80709b659",
   "metadata": {},
   "outputs": [
    {
     "data": {
      "image/png": "[encoded data removed]",
      "text/plain": [
       "<Figure size 720x1080 with 3 Axes>"
      ]
     },
     "metadata": {
      "needs_background": "light"
     },
     "output_type": "display_data"
    }
   ],
   "source": [
    "# fig = plt.figure(figsize=(8,6))\n",
    "fig, ax = plt.subplots(len(df_close_diff.columns),1,figsize=(10,15))\n",
    "for _,col in enumerate(df_close_diff):\n",
    "    ax[_].plot(df_close_diff.index, df_close_diff[col].values)\n",
    "    ax[_].set_title(f\"time series of {col}\")\n",
    "    ax[_].set_ylabel(\"rate of return\")\n",
    "    ax[_].set_xlabel(\"Date\")\n",
    "    ax[_].grid()\n",
    "fig.autofmt_xdate()\n",
    "plt.show()"
   ]
  },
  {
   "cell_type": "markdown",
   "id": "dcb3f95a-e783-4fff-bb15-4932edddd81d",
   "metadata": {},
   "source": [
    "##### Mean-Variance Portfolio Optimization (cardinality constraint, no short selling)\n",
    "$$\n",
    "\\begin{aligned}\n",
    "& \\underset{x}{\\text{minimize}} & & (\\textit{risk factor}) \\times \\frac{1}{2} x^TQx - r^Tx\\\\\n",
    "& \\text{subject to} && \\mathbf{1}^Tx=k\\\\\n",
    "        &&& x \\in \\{0,1\\}\\\\\n",
    "\\end{aligned}\n",
    "$$"
   ]
  },
  {
   "cell_type": "code",
   "execution_count": 12,
   "id": "95d9dde2-8aef-419c-813b-9ee082084489",
   "metadata": {},
   "outputs": [],
   "source": [
    "Q = df_close_diff.cov().values\n",
    "r = df_close_diff.mean().values"
   ]
  },
  {
   "cell_type": "markdown",
   "id": "9170a4bb-d1b8-499f-85de-c7f2bd2b5d61",
   "metadata": {},
   "source": [
    "## Using Gurobi"
   ]
  },
  {
   "cell_type": "code",
   "execution_count": 13,
   "id": "1c809b79-a1cb-44b6-bd85-a3b87b8cd17a",
   "metadata": {},
   "outputs": [],
   "source": [
    "from gurobipy import *"
   ]
  },
  {
   "cell_type": "code",
   "execution_count": 14,
   "id": "aa8413cd-65f6-4431-b4f5-d4382883568c",
   "metadata": {},
   "outputs": [],
   "source": [
    "def obj_val(x):\n",
    "    return 0.5 * lam * (x @ Q @ x) - (r @ x)\n",
    "\n",
    "def obj_val_qubo(x):\n",
    "    return 0.5 * lam * (x @ Q @ x) - (r @ x) + (np.ones(n).dot(x) - k) ** 2\n",
    "\n",
    "def print_bold(string, end=False):\n",
    "    if end:\n",
    "        print('\\033[91m' + '\\033[1m' + string + '\\033[0m',end=\"\")\n",
    "    else:\n",
    "        \n",
    "        print('\\033[91m' + '\\033[1m' + string + '\\033[0m')"
   ]
  },
  {
   "cell_type": "code",
   "execution_count": 15,
   "id": "630cd9f1-0c67-4b61-8927-c8f7a2137d44",
   "metadata": {},
   "outputs": [],
   "source": [
    "def obj_val_ising(z):\n",
    "    return z@J@z + h@z + C\n",
    "\n",
    "def qubo_to_ising(x):\n",
    "    def x_to_z(x):\n",
    "        return 1-2*x\n",
    "    return [x_to_z(s) for s in x]"
   ]
  },
  {
   "cell_type": "code",
   "execution_count": 16,
   "id": "ba565893-6a6c-4f0f-9a29-b472bb68fa0b",
   "metadata": {},
   "outputs": [
    {
     "name": "stdout",
     "output_type": "stream",
     "text": [
      "Restricted license - for non-production use only - expires 2022-01-13\n",
      "Gurobi Optimizer version 9.1.2 build v9.1.2rc0 (linux64)\n",
      "Thread count: 4 physical cores, 8 logical processors, using up to 8 threads\n",
      "Optimize a model with 1 rows, 3 columns and 3 nonzeros\n",
      "Model fingerprint: 0x0af27b48\n",
      "Model has 6 quadratic objective terms\n",
      "Variable types: 0 continuous, 3 integer (3 binary)\n",
      "Coefficient statistics:\n",
      "  Matrix range     [1e+00, 1e+00]\n",
      "  Objective range  [2e-03, 5e-03]\n",
      "  QObjective range [9e-04, 3e-03]\n",
      "  Bounds range     [1e+00, 1e+00]\n",
      "  RHS range        [2e+00, 2e+00]\n",
      "Found heuristic solution: objective -0.0052199\n",
      "Presolve time: 0.00s\n",
      "Presolved: 4 rows, 6 columns, 12 nonzeros\n",
      "Variable types: 0 continuous, 6 integer (6 binary)\n",
      "\n",
      "Explored 0 nodes (0 simplex iterations) in 0.02 seconds\n",
      "Thread count was 8 (of 8 available processors)\n",
      "\n",
      "Solution count 1: -0.00521988 \n",
      "\n",
      "Optimal solution found (tolerance 1.00e-04)\n",
      "Best objective -5.219881713014e-03, best bound -5.219881713014e-03, gap 0.0000%\n",
      "Gurobi selected:         ['ETHUSD', 'BTCUSD']\n",
      "Gurobi optimal solution: [1, 1, 0]\n",
      "Gurobi optimal value:    -0.005219881713013978\n"
     ]
    }
   ],
   "source": [
    "m   = Model(\"MVO\")\n",
    "x   = {}\n",
    "n   = len(Q)\n",
    "lam = 0.5\n",
    "k   = 2\n",
    "x   = m.addMVar(shape=n,vtype=GRB.BINARY, name=coins)\n",
    "obj = lam * 0.5 * (x @ Q @ x) - (r @ x)\n",
    "m.addConstr(x.sum()==k)\n",
    "m.setObjective(obj, GRB.MINIMIZE)\n",
    "m.optimize()\n",
    "\n",
    "selected = []\n",
    "gurobi   = []\n",
    "for v in m.getVars():\n",
    "    gurobi.append(int(v.x))\n",
    "    if v.x == 1:\n",
    "        selected.append(v.VarName)\n",
    "print(f\"Gurobi selected:         {selected}\")\n",
    "print(f\"Gurobi optimal solution: {gurobi}\")\n",
    "print(f\"Gurobi optimal value:    {obj_val(gurobi)}\")"
   ]
  },
  {
   "cell_type": "markdown",
   "id": "de3de96a-7b49-49b8-8792-bd1003875e4a",
   "metadata": {},
   "source": [
    "## Using Qiskit"
   ]
  },
  {
   "cell_type": "code",
   "execution_count": 17,
   "id": "983f2a5a-cf84-4b38-a96f-1c3e6a153204",
   "metadata": {},
   "outputs": [],
   "source": [
    "from qiskit                                   import Aer\n",
    "from qiskit.algorithms                        import VQE, QAOA, NumPyMinimumEigensolver\n",
    "from qiskit.algorithms.optimizers             import COBYLA\n",
    "from qiskit.circuit.library                   import TwoLocal\n",
    "from qiskit.utils                             import QuantumInstance\n",
    "from qiskit_finance.applications.optimization import PortfolioOptimization\n",
    "from qiskit_optimization.algorithms           import MinimumEigenOptimizer, RecursiveMinimumEigenOptimizer\n",
    "from qiskit_optimization.converters           import QuadraticProgramToQubo\n",
    "from qiskit.utils                             import algorithm_globals"
   ]
  },
  {
   "cell_type": "markdown",
   "id": "7b91c61e-3b39-41ec-aa78-d53916d279f8",
   "metadata": {},
   "source": [
    "##### Mean-Variance Optimization (with cardinality constraint, no short selling), QUBO - hold / not hold\n",
    "$$\n",
    "\\begin{aligned}\n",
    "& \\underset{x}{\\text{minimize}} & & (\\textit{risk factor}) \\times \\frac{1}{2} x^TQx - r^Tx +  P \\cdot (\\mathbf{1}^Tx - k)^2\\\\\n",
    "        &&& x \\in \\{0,1\\}\\\\\n",
    "\\end{aligned}\n",
    "$$"
   ]
  },
  {
   "cell_type": "code",
   "execution_count": 18,
   "id": "340b9368-1e0c-40b0-8fc9-31c079312571",
   "metadata": {},
   "outputs": [],
   "source": [
    "portfolio = PortfolioOptimization(expected_returns=r, covariances=0.5*Q,\n",
    "                                  risk_factor=lam, budget=k)\n",
    "qp = portfolio.to_quadratic_program()\n",
    "num_qubits = n\n",
    "seed = 6969"
   ]
  },
  {
   "cell_type": "markdown",
   "id": "9e445dec-864f-4da2-913c-5cc350a6e80b",
   "metadata": {},
   "source": [
    "### QAOA"
   ]
  },
  {
   "cell_type": "code",
   "execution_count": 19,
   "id": "f0823033-8657-43b5-98e9-640588e6c265",
   "metadata": {},
   "outputs": [],
   "source": [
    "def selection_to_picks(num_assets, selection):\n",
    "    purchase = []\n",
    "    for i in range(num_assets):\n",
    "        if selection[i] == 1:\n",
    "            purchase.append(coins[i])\n",
    "    return purchase\n",
    "\n",
    "def index_to_selection(i, n):\n",
    "    s = \"{0:b}\".format(i).rjust(n)\n",
    "    x = np.array([1 if s[i]=='1' else 0 for i in reversed(range(n))])\n",
    "    return x\n",
    "\n",
    "def print_result(result):\n",
    "    selection = result.x\n",
    "    value = result.fval\n",
    "    print('Optimal: selection {}, value {:.6f}'.format(selection, value))\n",
    "    \n",
    "    eigenstate = result.min_eigen_solver_result.eigenstate\n",
    "    eigenvector = eigenstate if isinstance(eigenstate, np.ndarray) else eigenstate.to_matrix()\n",
    "    probabilities = np.abs(eigenvector)**2\n",
    "    i_sorted = reversed(np.argsort(probabilities))\n",
    "    print('\\n----------------- Full result ---------------------')\n",
    "    print('selection\\tvalue\\t\\tprobability')\n",
    "    print('---------------------------------------------------')\n",
    "    states, values, probs = [], [], []\n",
    "    for i in i_sorted:\n",
    "        x = index_to_selection(i, n)\n",
    "        value = QuadraticProgramToQubo().convert(qp).objective.evaluate(x)\n",
    "        #value = portfolio.to_quadratic_program().objective.evaluate(x)\n",
    "        probability = probabilities[i]\n",
    "        if (x == gurobi).all():\n",
    "            print_bold('%10s\\t%.6f\\t\\t%.6f' %(x, value, probability))\n",
    "        else:\n",
    "            print('%10s\\t%.6f\\t\\t%.6f' %(x, value, probability))\n",
    "        states.append(''.join(str(i) for i in x))\n",
    "        values.append(value)\n",
    "        probs.append(probability)\n",
    "    return selection, states, values, probs"
   ]
  },
  {
   "cell_type": "code",
   "execution_count": 20,
   "id": "70f5d9a7-395f-4ae5-bf42-8ca96f14daa9",
   "metadata": {},
   "outputs": [
    {
     "name": "stdout",
     "output_type": "stream",
     "text": [
      "optimal function value: -0.005219881713013978\n",
      "optimal value: [1. 1. 0.]\n",
      "status: SUCCESS\n",
      "QAOA selected:         ['ETHUSD', 'BTCUSD']\n",
      "QAOA solution: [1. 1. 0.]\n",
      "QAOA value:    -0.005219881713013978\n"
     ]
    }
   ],
   "source": [
    "algorithm_globals.random_seed = seed\n",
    "backend = Aer.get_backend('statevector_simulator')\n",
    "\n",
    "cobyla = COBYLA()\n",
    "cobyla.set_options(maxiter=2500)\n",
    "quantum_instance = QuantumInstance(backend=backend, seed_simulator=seed, \n",
    "                                   seed_transpiler=seed)\n",
    "qaoa_mes = QAOA(optimizer=cobyla, reps=3,\n",
    "                quantum_instance=quantum_instance)\n",
    "exact_mes = NumPyMinimumEigensolver()\n",
    "\n",
    "qaoa = MinimumEigenOptimizer(qaoa_mes)\n",
    "exact = MinimumEigenOptimizer(exact_mes)\n",
    "rqaoa = RecursiveMinimumEigenOptimizer(qaoa, min_num_vars=2**num_qubits, \n",
    "                                       min_num_vars_optimizer=exact)\n",
    "result = rqaoa.solve(qp)\n",
    "print(result)\n",
    "# selection, state, values, probabilities = print_result(result)\n",
    "selection = result.x\n",
    "\n",
    "\n",
    "print(f\"QAOA selected:         {selection_to_picks(n, selection)}\")\n",
    "print(f\"QAOA solution: {selection}\")\n",
    "print(f\"QAOA value:    {obj_val_qubo(selection)}\")"
   ]
  },
  {
   "cell_type": "markdown",
   "id": "66f10873-6026-46c1-b5ac-e930f455c76b",
   "metadata": {
    "jp-MarkdownHeadingCollapsed": true,
    "tags": []
   },
   "source": [
    "### Circuit Design"
   ]
  },
  {
   "cell_type": "code",
   "execution_count": 21,
   "id": "5897df59-d2e3-4f9f-9bc5-b4afbe7df301",
   "metadata": {},
   "outputs": [],
   "source": [
    "from qiskit import QuantumCircuit, ClassicalRegister, QuantumRegister, execute, assemble\n",
    "from qiskit.circuit import Parameter\n",
    "from qiskit.visualization import plot_state_qsphere\n",
    "from qiskit.quantum_info  import Statevector"
   ]
  },
  {
   "cell_type": "code",
   "execution_count": 22,
   "id": "bc67f223-c516-4fe6-b60a-461e429fed04",
   "metadata": {},
   "outputs": [],
   "source": [
    "from mpl_toolkits import mplot3d\n",
    "from matplotlib import cm\n",
    "import binascii"
   ]
  },
  {
   "cell_type": "markdown",
   "id": "4453af25-deeb-45b8-bb0b-b8816b34a6f0",
   "metadata": {},
   "source": [
    "### Mean-Variance Optimization (cardinality constraint) - Unconstrained - BUY/SELL\n",
    "\n",
    "let $\\textit{risk factor} = \\lambda$, then we have our QUBO formulation for our problem\n",
    "$$\n",
    "\\begin{aligned}\n",
    "& \\underset{x}{\\text{minimize}} & & \\frac{\\lambda}{2} x^TQx - r^Tx +  P \\cdot (\\mathbf{1}^Tx - k)^2\\\\\n",
    "        &&& x \\in \\{0,1\\}\\\\\n",
    "\\end{aligned}\n",
    "$$\n",
    "\n",
    "Here, we set $P = \\mathbb{E}[r^Tx - \\frac{\\lambda}{2}x^TQx]$\n",
    "\n",
    "The corresponding QUBO formulation for our problem is as follows:\n",
    "$$\n",
    "\\begin{aligned}\n",
    "& \\underset{x}{\\text{minimize}} & & x^T \\left[\\frac{\\lambda}{2}Q + P\\mathbf{1} \\mathbf{1}^T \\right] x + \\left[-r - 2Pk\\mathbf{1} \\right]^T x + C\\\\\n",
    "        &&& x \\in \\{0,1\\}\\\\\n",
    "\\end{aligned}\n",
    "$$\n",
    "\n",
    "where $C=k^2P$.\n",
    "\n",
    "#### Corresponding Ising Model\n",
    "\n",
    "define a new variable $z$ such that $x = \\frac{1-z}{2}$, so $z \\in \\{-1, 1\\}$\n",
    "\n",
    "$$\n",
    "\\begin{aligned}\n",
    "& \\underset{z}{\\text{minimize}} & & z^T \\left[\\frac{1}{4}\\left(\\frac{\\lambda}{2}Q+P\\mathbf{1}\\mathbf{1}^T\\right)\\right]z\n",
    "+ \\frac{1}{2}\\left[r + 2kP\\mathbf{1} -\\textbf{1}^T(\\frac{\\lambda}{2}Q+P\\mathbb{1}\\mathbb{1}^T) \\right]^Tz\n",
    "+ C\\\\\n",
    "        &&& z \\in \\{-1,1\\}\\\\\n",
    "\\end{aligned}\n",
    "$$\n",
    "\n",
    "where $C=k^2P - \\frac{1}{2}(r+2kP\\mathbb{1})^T\\mathbb{1} + 1^T\\left[\\frac{1}{4}(\\frac{\\lambda}{2}Q+P\\mathbb{1}\\mathbb{1}^T)\\right]^T\\mathbb{1}$.\n",
    "\n",
    "#### Corresponding Hamiltonian\n",
    "let $J =\\frac{1}{4}\\left(\\frac{\\lambda}{2}Q+P\\mathbf{1}\\mathbf{1}^T\\right)$, and let $h = \\frac{1}{2}\\left[r + 2kP\\mathbf{1} - \\mathbf{1}^T(\\frac{\\lambda}{2}Q+P\\mathbb{1}\\mathbb{1}^T) \\right]$.\n",
    "\n",
    "We have $U(\\gamma,C)=e^{\\sum_{i=1}^n \\sum_{j=1}^n -\\frac{i\\pi\\gamma}{2} J_{ij}z_i z_j \\sum_{i=1}^n-\\frac{i\\pi \\gamma h_i}{2}z_i}$ $\\quad$ or $\\quad$ $U(\\gamma,C)=\\prod_{ij}e^{-\\frac{i\\pi\\gamma}{2} J_{ij}z_i z_j} \\prod_{i}e^{-\\frac{i\\pi \\gamma }{2}h_{i} z_i}$\n",
    "\n",
    "AND\n",
    "\n",
    "$U(\\beta,B)=e^{\\frac{i\\pi \\beta}{2}B}$, where $B=\\sum_{i=1}^n \\sigma_x^i$ $\\quad$ or $\\quad$ $U(\\beta,B)=\\prod_{i=1}^n e^{\\frac{i\\pi \\beta}{2}\\sigma_x^i}$"
   ]
  },
  {
   "cell_type": "code",
   "execution_count": 23,
   "id": "c09bae3b-0e3e-431c-aedf-d795c1caa997",
   "metadata": {},
   "outputs": [],
   "source": [
    "P = -lam/2*np.min(Q)*k**2 + k*np.max(r)\n",
    "P = 0.5\n",
    "\n",
    "J = 1/4 * (lam/2*Q + P*np.ones((n,n)))\n",
    "h = 1/2 * (r + 2*k*P*np.ones(n) - np.ones(n).dot((lam/2*Q + P*np.ones((n,n)))))\n",
    "C = k**2*P - 1/2*(r + 2*k*P*np.ones(n)).dot(np.ones(n)) + np.ones(n).dot(1/4*(lam/2*Q+P*np.ones((n,n)))).dot(np.ones(n))"
   ]
  },
  {
   "cell_type": "markdown",
   "id": "94b1a9a9-53b7-4711-8c4c-0418f2dfabb8",
   "metadata": {},
   "source": [
    "check if the transformation is correct"
   ]
  },
  {
   "cell_type": "code",
   "execution_count": 24,
   "id": "f932dc9a-4e44-4fff-a4c5-122466b02f12",
   "metadata": {},
   "outputs": [
    {
     "name": "stdout",
     "output_type": "stream",
     "text": [
      "[1, 1, 0]\n",
      "[-1, -1, 1]\n",
      "True\n"
     ]
    }
   ],
   "source": [
    "x = gurobi\n",
    "z = qubo_to_ising(x)\n",
    "print(x)\n",
    "print(z)\n",
    "print(round(obj_val(x),8) == round(obj_val_ising(z),8))"
   ]
  },
  {
   "cell_type": "markdown",
   "id": "b590ba7c-ba08-47b7-bfb6-533b44969816",
   "metadata": {},
   "source": [
    "check if P is selected right"
   ]
  },
  {
   "cell_type": "code",
   "execution_count": 25,
   "id": "a0b9c861-28f9-419f-9e04-4ec72f631fda",
   "metadata": {},
   "outputs": [],
   "source": [
    "# scalar = 500\n",
    "# J *= scalar\n",
    "# h *= scalar\n",
    "# C *= scalar\n",
    "\n",
    "# # J = J.astype(int)\n",
    "# # h = h.astype(int)"
   ]
  },
  {
   "cell_type": "code",
   "execution_count": 26,
   "id": "5dc5799c-e02c-4f29-99f4-3f4c5466c047",
   "metadata": {},
   "outputs": [],
   "source": [
    "def get_qaoa_circuit(n,J,h, beta_list, gamma_list, p=1):\n",
    "    \n",
    "    qc = QuantumCircuit(n)\n",
    "\n",
    "    for i in range(n):\n",
    "        # super position all states\n",
    "        qc.h(i)\n",
    "    start = 0\n",
    "    while start < p:\n",
    "        beta  = beta_list[start]\n",
    "        gamma = gamma_list[start]\n",
    "\n",
    "        for i in range(n-1):\n",
    "            for j in range(i+1,n):\n",
    "                # first, add CNOT gate from i to j\n",
    "                # second, rotate j along the z axis by gamma\n",
    "                # finally, add another CNOT gate from i to j\n",
    "                qc.rzz(gamma * 2 * J[i][j], i, j)\n",
    "            qc.barrier()\n",
    "        qc.rzz(gamma * 2 * J[n-1][0], n-1, 0)\n",
    "        qc.barrier()\n",
    "        \n",
    "        for i in range(n):\n",
    "            qc.rz(gamma * h[i], i)\n",
    "\n",
    "        for i in range(n):\n",
    "            # rotate i along the x axis by beta\n",
    "            qc.rx(2 * (beta), i)\n",
    "        start += 1\n",
    "        \n",
    "    # measure the state for each i\n",
    "    qc.measure_all()\n",
    "\n",
    "    return qc\n",
    "\n",
    "def get_expected_loss(counts):\n",
    "    expected_loss = 0\n",
    "    total_count = sum(counts.values())\n",
    "    for state in counts:\n",
    "        freq      = counts[state]\n",
    "        state     = [int(s) for s in state]\n",
    "        obj_value = obj_val_qubo(state)\n",
    "        prob      = freq / total_count\n",
    "        expected_loss += prob*obj_value\n",
    "    return expected_loss"
   ]
  },
  {
   "cell_type": "markdown",
   "id": "97283752-b7ba-4cdd-a6dd-2ee7fd187fdc",
   "metadata": {
    "tags": []
   },
   "source": [
    "### Try grid search to find a good guess for the parameter pair $\\beta$ and $\\gamma$ with dept $p=1$"
   ]
  },
  {
   "cell_type": "code",
   "execution_count": null,
   "id": "427153fe-83bf-4060-896a-1e44deef94c9",
   "metadata": {},
   "outputs": [],
   "source": [
    "iter_list = np.arange(0, np.pi, 1/20)\n",
    "loss_dim = len(iter_list)\n",
    "expected_loss = np.zeros((loss_dim,loss_dim))\n",
    "dept = 1\n",
    "for _b, beta in enumerate(iter_list):\n",
    "    for _g, gamma in enumerate(iter_list):\n",
    "        start = 0\n",
    "        beta  *= 2\n",
    "        gamma *= 2\n",
    "        beta_list = [beta] * dept\n",
    "        gamma_list = [gamma] * dept\n",
    "        qaoa_qc = get_qaoa_circuit(n,J,h,beta_list,gamma_list,p=dept)\n",
    "        backend = Aer.get_backend(\"statevector_simulator\")\n",
    "        job     = execute(qaoa_qc, backend, shots = 2500)\n",
    "        result  = job.result()\n",
    "        counts  = result.get_counts()\n",
    "        opt_sol = max(counts, key=counts.get)\n",
    "        opt_sol = [int(s) for s in opt_sol]\n",
    "        expected_loss[_b][_g] = obj_val_qubo(opt_sol)"
   ]
  },
  {
   "cell_type": "code",
   "execution_count": null,
   "id": "1fda23bb-e7f6-4465-b117-bead8b4c0438",
   "metadata": {},
   "outputs": [],
   "source": [
    "from qiskit.quantum_info.operators import Operator\n",
    "from qiskit.opflow.expectations    import PauliExpectation\n",
    "from qiskit.opflow.converters      import CircuitSampler\n",
    "from qiskit.opflow.state_fns       import StateFn\n",
    "from qiskit.opflow.state_fns       import CircuitStateFn\n",
    "from qiskit.opflow.primitive_ops   import CircuitOp"
   ]
  },
  {
   "cell_type": "code",
   "execution_count": null,
   "id": "13f5474a-929d-4893-8a06-01481f563fb2",
   "metadata": {},
   "outputs": [],
   "source": [
    "\n",
    "qc = QuantumCircuit(n)\n",
    "start = 0\n",
    "while start < p:\n",
    "    beta  = beta_list[start]\n",
    "    gamma = gamma_list[start]\n",
    "\n",
    "    for i in range(n-1):\n",
    "        for j in range(i+1,n):\n",
    "            # first, add CNOT gate from i to j\n",
    "            # second, rotate j along the z axis by gamma\n",
    "            # finally, add another CNOT gate from i to j\n",
    "            qc.rzz(gamma * 2 * J[i][j], i, j)\n",
    "        qc.barrier()\n",
    "    qc.rzz(gamma * 2 * J[n-1][0], n-1, 0)\n",
    "    qc.barrier()\n",
    "\n",
    "    for i in range(n):\n",
    "        qc.rz(gamma * h[i], i)\n",
    "\n",
    "    for i in range(n):\n",
    "        # rotate i along the x axis by beta\n",
    "        qc.rx(2 * (beta), i)\n",
    "    start += 1\n",
    "\n",
    "psi = QuantumCircuit(n)\n",
    "for i in range(n):\n",
    "    psi.h(i)\n",
    "psi = CircuitStateFn(psi)"
   ]
  },
  {
   "cell_type": "code",
   "execution_count": null,
   "id": "b067aad7-aaef-4803-8fc9-30fdca8e0b9e",
   "metadata": {},
   "outputs": [],
   "source": [
    "beta_list, gamma_list"
   ]
  },
  {
   "cell_type": "code",
   "execution_count": null,
   "id": "3fc2e0f8-64d5-445e-86ce-3932b3a0d313",
   "metadata": {},
   "outputs": [],
   "source": [
    "qaoa_qc.remove_final_measurements()\n",
    "op = Operator(qaoa_qc)\n",
    "type(op)"
   ]
  },
  {
   "cell_type": "code",
   "execution_count": null,
   "id": "05bd6392-b623-40db-8b61-904ac11560d9",
   "metadata": {},
   "outputs": [],
   "source": [
    "qaoa_qc.save_expectation_value(op,n)"
   ]
  },
  {
   "cell_type": "code",
   "execution_count": null,
   "id": "b1fe17a1-2a77-4d3e-8588-c62bf7074c87",
   "metadata": {},
   "outputs": [],
   "source": [
    "cop = CircuitStateFn(qaoa_qc)\n",
    "# print('Math:', psi.adjoint().compose(cop).compose(psi).eval().real)"
   ]
  },
  {
   "cell_type": "code",
   "execution_count": null,
   "id": "5ddccb0d-2b7d-43d6-81c5-fade2f5e45df",
   "metadata": {},
   "outputs": [],
   "source": [
    "cop.eval()"
   ]
  },
  {
   "cell_type": "code",
   "execution_count": null,
   "id": "7ca8eb80-1c43-4260-811f-ff80b1825a74",
   "metadata": {},
   "outputs": [],
   "source": [
    "# define your backend or quantum instance (where you can add settings)\n",
    "backend = Aer.get_backend('qasm_simulator') \n",
    "q_instance = QuantumInstance(backend, shots=1024)\n",
    "\n",
    "# define the state to sample\n",
    "measurable_expression = StateFn(cop, is_measurement=True).compose(psi) \n",
    "\n",
    "# convert to expectation value\n",
    "expectation = PauliExpectation().convert(measurable_expression)  \n",
    "\n",
    "# get state sampler (you can also pass the backend directly)\n",
    "sampler = CircuitSampler(backend).convert(expectation) \n",
    "\n",
    "# evaluate\n",
    "print('Sampled:', sampler.eval().real)  "
   ]
  },
  {
   "cell_type": "code",
   "execution_count": null,
   "id": "f3be111d-a335-4d9b-b74e-383acd9d421c",
   "metadata": {},
   "outputs": [],
   "source": [
    "report = {}\n",
    "for count in counts:\n",
    "    count_array = [int(s) for s in count]\n",
    "    report[count] = round(obj_val_qubo(count_array),8)\n",
    "report = {k: v for k, v in sorted(report.items(), key=lambda item: item[1])}\n",
    "for count in report:\n",
    "    text = f\"{count}: {round(report[count],8)}\"\n",
    "    count_array = [int(s) for s in count]\n",
    "    if count_array == gurobi:\n",
    "        print_bold(text)\n",
    "    else:\n",
    "        print(text)"
   ]
  },
  {
   "cell_type": "code",
   "execution_count": null,
   "id": "1ff8b58f-912b-4797-a185-39c8546ee734",
   "metadata": {},
   "outputs": [],
   "source": [
    "fig, ax = plt.subplots(figsize=(8,6))\n",
    "sns.heatmap(expected_loss, cbar=True,cmap='plasma')\n",
    "ax.set_title('Expectation value of total cost',size=20)\n",
    "ax.set_xlabel(r'$\\gamma \\ [\\pi]$',size=20)\n",
    "ax.set_ylabel(r'$\\beta \\ [\\pi]$',size=20)\n",
    "text = r'''\n",
    "        Figure {}: $\\langle \\psi(\\gamma,\\beta)|C(z)|\\psi(\\gamma,\\beta) \\rangle$ using input data.\n",
    "        '''.format(1)\n",
    "# plt.text(loc='bottom', ha='left', size=12)\n",
    "plt.show()"
   ]
  },
  {
   "cell_type": "code",
   "execution_count": 369,
   "id": "042ccae4-3086-433e-b6c8-c064c293d240",
   "metadata": {},
   "outputs": [
    {
     "name": "stdout",
     "output_type": "stream",
     "text": [
      "(32, 32) (32, 32) (32, 32)\n"
     ]
    }
   ],
   "source": [
    "X = 2*iter_list\n",
    "Y = 2*iter_list\n",
    "X,Y = np.meshgrid(X,Y)\n",
    "print(X.shape, Y.shape, expected_loss.shape)"
   ]
  },
  {
   "cell_type": "code",
   "execution_count": 370,
   "id": "c55b23a1-62a1-43db-9b24-224854cf4f95",
   "metadata": {},
   "outputs": [
    {
     "data": {
      "image/png": "[encoded data removed]",
      "text/plain": [
       "<Figure size 432x288 with 1 Axes>"
      ]
     },
     "metadata": {
      "needs_background": "light"
     },
     "output_type": "display_data"
    }
   ],
   "source": [
    "fit=plt.figure()\n",
    "ax =plt.axes(projection='3d')\n",
    "ax.plot_surface(X, Y, (expected_loss), rstride=1, cstride=1,\n",
    "                cmap=cm.coolwarm, linewidth=0, antialiased=False)\n",
    "ax.set_xlabel('gamma')\n",
    "ax.set_ylabel('beta')\n",
    "ax.set_zlabel('expected loss')\n",
    "ax.view_init(25, 65)\n",
    "# ax.set_zlim([np.min(expected_loss)*1.5, np.max(expected_loss)])\n",
    "\n",
    "plt.show()"
   ]
  },
  {
   "cell_type": "code",
   "execution_count": 360,
   "id": "6ac13393-a8d0-4fbb-ba6a-0c1a0f374744",
   "metadata": {},
   "outputs": [
    {
     "data": {
      "text/plain": [
       "(1, 0)"
      ]
     },
     "execution_count": 360,
     "metadata": {},
     "output_type": "execute_result"
    }
   ],
   "source": [
    "np.unravel_index(expected_loss.argmin(), expected_loss.shape)"
   ]
  },
  {
   "cell_type": "code",
   "execution_count": 357,
   "id": "6cd29c48-4fa1-4464-bc11-fd294985cba4",
   "metadata": {},
   "outputs": [],
   "source": [
    "dept = 3\n",
    "_b,_g = np.unravel_index(expected_loss.argmin(), expected_loss.shape)\n",
    "beta, gamma = [_b/20]*dept, [_g/20]*dept\n",
    "qaoa_qc = get_qaoa_circuit(n,J,h,beta,gamma,p=dept)\n",
    "\n",
    "backend = Aer.get_backend(\"statevector_simulator\")\n",
    "job     = execute(qaoa_qc, backend, shots = 2500, memory=True)\n",
    "result  = job.result()\n",
    "counts  = result.get_counts()\n",
    "counts  ={k: v for k, v in sorted(counts.items(),\n",
    "                                key=lambda item: item[1],\n",
    "                                reverse=True)}"
   ]
  },
  {
   "cell_type": "code",
   "execution_count": 358,
   "id": "a7e54e54-2fe8-4fa4-b28b-afc04bbfd11a",
   "metadata": {},
   "outputs": [
    {
     "data": {
      "image/png": "[encoded data removed]",
      "text/plain": [
       "<Figure size 1440x576 with 1 Axes>"
      ]
     },
     "metadata": {
      "needs_background": "light"
     },
     "output_type": "display_data"
    }
   ],
   "source": [
    "fig, ax = plt.subplots(figsize=(20, 8))\n",
    "optimized_value = sns.barplot(x=list(counts.keys()), y=list(counts.values()))\n",
    "for _,item in enumerate(optimized_value.get_xticklabels()):\n",
    "    item.set_rotation(45)\n",
    "    if item.get_text() == ''.join(str(s) for s in gurobi):\n",
    "        ax.get_xticklabels()[_].set_color(\"red\")\n",
    "ax.set_title(\"Probabilites of Each Possible Combination of Assets\", fontsize=25) # Probability of Max Return at given risk level\n",
    "ax.set_xlabel('Possible Combinations of Assets',fontsize =20)\n",
    "ax.get_xticklabels()\n",
    "ax.set_ylabel('Probability',fontsize = 20)\n",
    "plt.show()"
   ]
  },
  {
   "cell_type": "code",
   "execution_count": null,
   "id": "0dd430f3-6f03-4019-a861-086b262f903a",
   "metadata": {},
   "outputs": [],
   "source": []
  },
  {
   "cell_type": "code",
   "execution_count": null,
   "id": "fc1ceb36-c3be-4537-9f97-3b05b61bfc45",
   "metadata": {},
   "outputs": [],
   "source": []
  },
  {
   "cell_type": "code",
   "execution_count": null,
   "id": "0d01317d-45a0-4aec-a66c-7daa3121288c",
   "metadata": {},
   "outputs": [],
   "source": []
  },
  {
   "cell_type": "code",
   "execution_count": null,
   "id": "a1d9a974-581f-42ea-acea-4a1fd5274f84",
   "metadata": {},
   "outputs": [],
   "source": []
  },
  {
   "cell_type": "code",
   "execution_count": null,
   "id": "c9cc9780-0931-43f1-96d8-5421a6daf252",
   "metadata": {},
   "outputs": [],
   "source": []
  },
  {
   "cell_type": "markdown",
   "id": "da273d2a-81cc-4dee-9ea8-78a0dd9d98e1",
   "metadata": {},
   "source": [
    "### Grid search is usable for a shorter circuits, but for p > 5, this is very expansive to use. We use gradient decent-based method to find the optimal parameter pairs $\\beta$ and $\\gamma$."
   ]
  },
  {
   "cell_type": "markdown",
   "id": "01fa1b76-6c4d-4a76-90d0-3115b4664e23",
   "metadata": {},
   "source": []
  },
  {
   "cell_type": "code",
   "execution_count": 121,
   "id": "8b4f75d8-7092-41d8-9603-8babcdefcaaf",
   "metadata": {},
   "outputs": [],
   "source": [
    "\n",
    "def optimize_circuit_GD(circuit,J,h,n_trials,p,lr=0.2,steps=10):\n",
    "    '''\n",
    "    Gradient descent optimization\n",
    "    '''\n",
    "    \n",
    "    backend = Aer.get_backend(\"statevector_simulator\")\n",
    "    # Initialize random gradients\n",
    "    E_gradients = np.random.rand(2*p)\n",
    "    x = np.random.rand(2*p)\n",
    "    dx = np.zeros(2 * p)\n",
    "\n",
    "    for k in tqdm(range(steps)):\n",
    "\n",
    "       # Compute the energy\n",
    "        #E = self.circuit_measurement_function(x,circuit,parameters,n_trials=n_trials,p=p)\n",
    "\n",
    "        for i in range(len(x)):\n",
    "            dx[:] = 0.0\n",
    "            dx[i] = lr * E_gradients[i]\n",
    "            #TODO find the gradient of the expected value with respect to beta and gamma\n",
    "            job     = execute(qaoa_qc, backend, shots = 10000)\n",
    "            result  = job.result()\n",
    "            \n",
    "            E_pdx = circuit_measurement_function(x + dx, circuit, parameters, n_trials=n_trials, p=p)\n",
    "            \n",
    "\n",
    "            E_mdx = circuit_measurement_function(x - dx, circuit, parameters, n_trials=n_trials, p=p)\n",
    "            E_gradients[i] = 0.5*((E_pdx-E_mdx)/np.sqrt(np.sum(dx**2)))\n",
    "\n",
    "        #update the parameters\n",
    "        x = x-lr*E_gradients\n",
    "        #x = np.array([x[i]+2.0*np.pi if x[i] < 0.0 else x[i]-2.0*np.pi if x[i] > 2.0*np.pi else x[i] for i in range(len(x))])\n",
    "\n",
    "    # get the other results\n",
    "    gammas = x[0:p]\n",
    "    betas = x[p:]\n",
    "    bitstrings = self.measure_circuit(circuit, parameters=parameters, betas=betas, gammas=gammas, n_trials=n_trials)\n",
    "    portfolio_holdings = self.convert_bitstrings_to_portfolio_holdings(bitstrings)\n",
    "    energy_expectation_value = self.compute_total_cost_expectation_value(portfolio_holdings, parameters)\n",
    "    best_solutions = self.determine_best_solution_from_trials(parameters, portfolio_holdings)\n",
    "\n",
    "    results={}\n",
    "    results['portfolio_holdings'] = portfolio_holdings\n",
    "    results['best_solutions'] = best_solutions\n",
    "    results['optimal_gammas'] = gammas\n",
    "    results['optimal_betas'] =  betas\n",
    "    results['optimal_energy_measurement'] = energy_expectation_value\n",
    "\n",
    "    return results"
   ]
  },
  {
   "cell_type": "code",
   "execution_count": 111,
   "id": "f63531a6-9c38-4122-810e-1ad657f2bd3f",
   "metadata": {},
   "outputs": [],
   "source": [
    "loss_dim = 20\n",
    "expected_loss = np.zeros((loss_dim,loss_dim))\n",
    "p = 6\n",
    "for _b, beta in enumerate(np.arange(0,2,2/loss_dim)):\n",
    "    for _g, gamma in enumerate(np.arange(0,2,2/loss_dim)):\n",
    "        start = 0\n",
    "        beta *= np.pi/2\n",
    "        gamma *= np.pi\n",
    "        qaoa_qc = get_qaoa_circuit(n,J,h,beta,gamma,p=p)\n",
    "        backend = Aer.get_backend(\"statevector_simulator\")\n",
    "        job     = execute(qaoa_qc, backend, shots = 10000)\n",
    "        result  = job.result()\n",
    "        counts  = result.get_counts()\n",
    "        counts={k: v for k, v in sorted(counts.items(),\n",
    "                                        key=lambda item: item[1],\n",
    "                                        reverse=True)}\n",
    "#         expected_loss[_b][_g] = get_expected_loss(counts)"
   ]
  },
  {
   "cell_type": "code",
   "execution_count": null,
   "id": "5a928462-f791-4b09-b894-bb4f3055b5c7",
   "metadata": {},
   "outputs": [],
   "source": []
  },
  {
   "cell_type": "code",
   "execution_count": null,
   "id": "f5adea86-f6e0-46f0-b35a-a94fe3ccf66b",
   "metadata": {},
   "outputs": [],
   "source": [
    "\n",
    "beta, gamma = _b/20, _g/20\n",
    "# qaoa_qc = get_qaoa_circuit(n, , np.pi*beta/2, np.pi*gamma)\n",
    "# qaoa_qc.decompose().decompose().draw(output='mpl')\n",
    "\n",
    "backend = Aer.get_backend(\"statevector_simulator\")\n",
    "job     = execute(qaoa_qc, backend, shots = 10000)\n",
    "result  = job.result()\n",
    "counts  = result.get_counts()\n",
    "counts={k: v for k, v in sorted(counts.items(),\n",
    "                                key=lambda item: item[1],\n",
    "                                reverse=True)}\n",
    "expected_loss[_b][_g] = get_expected_loss(counts)"
   ]
  },
  {
   "cell_type": "code",
   "execution_count": null,
   "id": "ff82edf6-66c4-4561-86f8-dd073fdafe75",
   "metadata": {},
   "outputs": [],
   "source": []
  },
  {
   "cell_type": "markdown",
   "id": "404fe083-0c09-4f50-a540-ae5eb9d48941",
   "metadata": {},
   "source": [
    "##### Minimum Variance Portfolio Optimization (without cardinality constraint, no short selling)\n",
    "$$\n",
    "\\begin{aligned}\n",
    "& \\underset{x}{\\text{minimize}} & & \\frac{1}{2} x^TQx\\\\\n",
    "        &\\text{subject to}&& \\mathbf{1}^Tx = k\\\\\n",
    "        &&& x \\in \\{0,1\\}\\\\\n",
    "        &&& \\lambda \\in [0,1]\\\\\n",
    "\\end{aligned}\n",
    "$$"
   ]
  }
 ],
 "metadata": {
  "kernelspec": {
   "display_name": "Python 3 (ipykernel)",
   "language": "python",
   "name": "python3"
  },
  "language_info": {
   "codemirror_mode": {
    "name": "ipython",
    "version": 3
   },
   "file_extension": ".py",
   "mimetype": "text/x-python",
   "name": "python",
   "nbconvert_exporter": "python",
   "pygments_lexer": "ipython3",
   "version": "3.8.12"
  }
 },
 "nbformat": 4,
 "nbformat_minor": 5
}

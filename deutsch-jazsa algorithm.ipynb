{
 "cells": [
  {
   "cell_type": "code",
   "execution_count": 2,
   "id": "77a8fb70-f328-4cf2-b76a-5871d6556363",
   "metadata": {},
   "outputs": [],
   "source": [
    "import numpy as np\n",
    "\n",
    "from qiskit import BasicAer\n",
    "from qiskit.providers.ibmq import least_busy\n",
    "from qiskit import QuantumCircuit, execute\n",
    "from qiskit.tools.jupyter import *\n",
    "\n",
    "from qiskit.visualization import plot_histogram"
   ]
  },
  {
   "cell_type": "code",
   "execution_count": 9,
   "id": "9fb64213-533d-4ec9-baa4-f94b43734638",
   "metadata": {},
   "outputs": [],
   "source": [
    "def dj_oracle(case, n):\n",
    "    # we need n inputs + 1 output\n",
    "    oracle_qc = QuantumCircuit(n+1)\n",
    "    \n",
    "    # first case is balanced\n",
    "    if case == \"balanced\":\n",
    "        # we apply controlled-NOT gates for each qubit\n",
    "        # using the output qubit as the target\n",
    "        for q in range(n):\n",
    "            oracle_qc.cx(q,n)\n",
    "        \n",
    "    # second case is constant\n",
    "    if case == \"constant\":\n",
    "        # decide if the output of the oracle be\n",
    "        # either 0 or 1\n",
    "        output = np.random.randint(2)\n",
    "        if output == 1:\n",
    "            oracle_qc.x(n)\n",
    "    \n",
    "    oracle_gate = oracle_qc.to_gate()\n",
    "    oracle_gate.name = \"Oracle\" # anchor for circuit draw\n",
    "    return oracle_gate\n",
    "    "
   ]
  },
  {
   "cell_type": "code",
   "execution_count": 10,
   "id": "00a85ec0-fb6f-4671-902f-d43ed13922d0",
   "metadata": {},
   "outputs": [],
   "source": [
    "def dj_algorithm(n, case = 'random'):\n",
    "    # n inputs, 1 output, n classical bits\n",
    "    dj_circuit = QuantumCircuit(n+1, n)\n",
    "    \n",
    "    # set up the input register\n",
    "    for q in range(n):\n",
    "        dj_circuit.h(q)\n",
    "    \n",
    "    # set up the output qubit\n",
    "    dj_circuit.x(n)\n",
    "    dj_circuit.h(n)\n",
    "    \n",
    "    # add the Oracle gate\n",
    "    if case == \"random\":\n",
    "        random = np.random.randint(2)\n",
    "        if random == 0:\n",
    "            case = \"constant\"\n",
    "        else:\n",
    "            case = \"random\"\n",
    "    \n",
    "    oracle = dj_oracle(case, n)\n",
    "    dj_circuit.append(oracle, range(n+1))\n",
    "    \n",
    "    # super position all states and measure\n",
    "    for q in range(n):\n",
    "        dj_circuit.h(q)\n",
    "        dj_circuit.measure(q,q)\n",
    "    \n",
    "    return dj_circuit"
   ]
  },
  {
   "cell_type": "code",
   "execution_count": 11,
   "id": "032bdd53-8ac9-489d-a7f1-2368b9cca317",
   "metadata": {},
   "outputs": [
    {
     "data": {
      "image/png": "[encoded data removed]",
      "text/plain": [
       "<Figure size 628.397x385.28 with 1 Axes>"
      ]
     },
     "execution_count": 11,
     "metadata": {},
     "output_type": "execute_result"
    }
   ],
   "source": [
    "n          = 4\n",
    "dj_circuit = dj_algorithm(n)\n",
    "dj_circuit.draw('mpl')"
   ]
  },
  {
   "cell_type": "code",
   "execution_count": 14,
   "id": "c1eb0d68-fc8a-44ff-916b-a428801a1930",
   "metadata": {},
   "outputs": [
    {
     "data": {
      "image/png": "[encoded data removed]",
      "text/plain": [
       "<Figure size 504x360 with 1 Axes>"
      ]
     },
     "execution_count": 14,
     "metadata": {},
     "output_type": "execute_result"
    }
   ],
   "source": [
    "backend    = BasicAer.get_backend(\"qasm_simulator\")\n",
    "shots      = 1024\n",
    "dj_circuit = dj_algorithm(n)\n",
    "results    = execute(dj_circuit, backend=backend, \n",
    "                     shots=shots).result()\n",
    "answer     = results.get_counts()\n",
    "plot_histogram(answer)"
   ]
  },
  {
   "cell_type": "markdown",
   "id": "d832e27e-d39c-4631-8da3-afb8aaf400de",
   "metadata": {
    "tags": []
   },
   "source": [
    "#### Use IBM-Q"
   ]
  },
  {
   "cell_type": "code",
   "execution_count": null,
   "id": "da3b040c-c397-4b95-82c2-717afd3225c2",
   "metadata": {},
   "outputs": [],
   "source": [
    "backend = least_busy(provider.backends(filters=lambda x: x.configuration().n_qubits >= (n+1) and\n",
    "                                      not x.configuration().simulator and x.status().operational==True))\n",
    "print(f\"least busy backend: {backend}\")\n",
    "%qiskit_job_watcher\n",
    "dj_circuit = dj_algorithm(n)\n",
    "job = execute(dj_circuit, backend=backend, shots=shots, optimization_level=3)"
   ]
  },
  {
   "cell_type": "code",
   "execution_count": null,
   "id": "268a268f-b57f-469b-8b8d-6c7bd3a5ab51",
   "metadata": {},
   "outputs": [],
   "source": [
    "results = job.result()\n",
    "answer  = results.get_counts()\n",
    "plot_histogram(answer)"
   ]
  },
  {
   "cell_type": "code",
   "execution_count": null,
   "id": "6d4687b2-bb63-435d-b824-56bf6e58aa13",
   "metadata": {},
   "outputs": [],
   "source": []
  }
 ],
 "metadata": {
  "kernelspec": {
   "display_name": "Python 3 (ipykernel)",
   "language": "python",
   "name": "python3"
  },
  "language_info": {
   "codemirror_mode": {
    "name": "ipython",
    "version": 3
   },
   "file_extension": ".py",
   "mimetype": "text/x-python",
   "name": "python",
   "nbconvert_exporter": "python",
   "pygments_lexer": "ipython3",
   "version": "3.8.12"
  }
 },
 "nbformat": 4,
 "nbformat_minor": 5
}

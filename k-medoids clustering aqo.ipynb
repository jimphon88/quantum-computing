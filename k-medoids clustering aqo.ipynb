{
 "cells": [
  {
   "cell_type": "code",
   "execution_count": null,
   "id": "cc76309a-0182-4729-bd30-1bfb95f21638",
   "metadata": {},
   "outputs": [],
   "source": []
  },
  {
   "cell_type": "code",
   "execution_count": 2,
   "id": "9874dbf0-1673-4db8-9499-e232c25737b1",
   "metadata": {},
   "outputs": [],
   "source": [
    "import pandas as pd\n",
    "import numpy as np\n",
    "import math\n",
    "import datetime\n",
    "import matplotlib.pyplot as plt\n",
    "import seaborn as sns\n",
    "from time import sleep as fallasleep\n",
    "import os, sys"
   ]
  },
  {
   "cell_type": "code",
   "execution_count": 9,
   "id": "f827bd69-582b-4808-9f2b-0fc3be456b5a",
   "metadata": {},
   "outputs": [],
   "source": [
    "from source.colortools import color_box"
   ]
  },
  {
   "cell_type": "code",
   "execution_count": 6,
   "id": "2c52a8af-e498-4321-be7c-1fc18267346d",
   "metadata": {},
   "outputs": [],
   "source": [
    "import krakenex\n",
    "from pykrakenapi import KrakenAPI"
   ]
  },
  {
   "cell_type": "code",
   "execution_count": 10,
   "id": "4788c0ad-eddc-42e0-8de2-3e1d17eeedaa",
   "metadata": {},
   "outputs": [],
   "source": [
    "api = krakenex.API()\n",
    "k = KrakenAPI(api)\n",
    "coins = [\"ETH\", \"BTC\", \"XRP\", \"ADA\", \"DOT\"]\n",
    "gapmin= 1440\n",
    "coins = [coin+\"USD\" for coin in coins]\n",
    "df = {}\n",
    "colormapper = {}\n",
    "for _,coin in enumerate(coins):\n",
    "    data, last = k.get_ohlc_data(coin, interval = gapmin, ascending = True)\n",
    "    df[coin]=data.drop(['time', 'count'], axis=1)\n",
    "    colormapper[coin] = color_box[_]\n",
    "    fallasleep(1)\n"
   ]
  },
  {
   "cell_type": "code",
   "execution_count": 28,
   "id": "48b1e3eb-6235-41d4-b70e-d0566dd64f4f",
   "metadata": {},
   "outputs": [
    {
     "data": {
      "text/plain": [
       "ETHUSD      0\n",
       "BTCUSD      0\n",
       "XRPUSD      0\n",
       "ADAUSD      0\n",
       "DOTUSD    261\n",
       "dtype: int64"
      ]
     },
     "execution_count": 28,
     "metadata": {},
     "output_type": "execute_result"
    }
   ],
   "source": [
    "df_close = pd.DataFrame(columns=coins)\n",
    "\n",
    "for coin in coins:\n",
    "    df_close[coin] = df[coin]['close']\n",
    "\n",
    "\n",
    "df_close.isna().sum()"
   ]
  },
  {
   "cell_type": "markdown",
   "id": "113fd68f-c729-4685-810b-32481a865853",
   "metadata": {},
   "source": [
    "This is because polkadot was released quite later than other coins"
   ]
  },
  {
   "cell_type": "code",
   "execution_count": 31,
   "id": "039f20c6-e2c0-4645-92d1-3802b764e084",
   "metadata": {},
   "outputs": [
    {
     "name": "stdout",
     "output_type": "stream",
     "text": [
      "ETHUSD    0\n",
      "BTCUSD    0\n",
      "XRPUSD    0\n",
      "ADAUSD    0\n",
      "DOTUSD    0\n",
      "dtype: int64\n"
     ]
    },
    {
     "data": {
      "text/html": [
       "<div>\n",
       "<style scoped>\n",
       "    .dataframe tbody tr th:only-of-type {\n",
       "        vertical-align: middle;\n",
       "    }\n",
       "\n",
       "    .dataframe tbody tr th {\n",
       "        vertical-align: top;\n",
       "    }\n",
       "\n",
       "    .dataframe thead th {\n",
       "        text-align: right;\n",
       "    }\n",
       "</style>\n",
       "<table border=\"1\" class=\"dataframe\">\n",
       "  <thead>\n",
       "    <tr style=\"text-align: right;\">\n",
       "      <th></th>\n",
       "      <th>ETHUSD</th>\n",
       "      <th>BTCUSD</th>\n",
       "      <th>XRPUSD</th>\n",
       "      <th>ADAUSD</th>\n",
       "      <th>DOTUSD</th>\n",
       "    </tr>\n",
       "    <tr>\n",
       "      <th>dtime</th>\n",
       "      <th></th>\n",
       "      <th></th>\n",
       "      <th></th>\n",
       "      <th></th>\n",
       "      <th></th>\n",
       "    </tr>\n",
       "  </thead>\n",
       "  <tbody>\n",
       "    <tr>\n",
       "      <th>2020-08-18</th>\n",
       "      <td>422.62</td>\n",
       "      <td>11957.0</td>\n",
       "      <td>0.30292</td>\n",
       "      <td>0.137218</td>\n",
       "      <td>3.1099</td>\n",
       "    </tr>\n",
       "    <tr>\n",
       "      <th>2020-08-19</th>\n",
       "      <td>407.57</td>\n",
       "      <td>11757.4</td>\n",
       "      <td>0.28992</td>\n",
       "      <td>0.129678</td>\n",
       "      <td>2.9175</td>\n",
       "    </tr>\n",
       "    <tr>\n",
       "      <th>2020-08-20</th>\n",
       "      <td>416.20</td>\n",
       "      <td>11864.6</td>\n",
       "      <td>0.29246</td>\n",
       "      <td>0.134305</td>\n",
       "      <td>2.9090</td>\n",
       "    </tr>\n",
       "  </tbody>\n",
       "</table>\n",
       "</div>"
      ],
      "text/plain": [
       "            ETHUSD   BTCUSD   XRPUSD    ADAUSD  DOTUSD\n",
       "dtime                                                 \n",
       "2020-08-18  422.62  11957.0  0.30292  0.137218  3.1099\n",
       "2020-08-19  407.57  11757.4  0.28992  0.129678  2.9175\n",
       "2020-08-20  416.20  11864.6  0.29246  0.134305  2.9090"
      ]
     },
     "metadata": {},
     "output_type": "display_data"
    }
   ],
   "source": [
    "df_close = df_close.dropna()\n",
    "print(df_close.isna().sum())\n",
    "display(df_close.head(3))"
   ]
  },
  {
   "cell_type": "code",
   "execution_count": 34,
   "id": "ea5ad6be-e21d-4cd3-9c7f-c03096b2d205",
   "metadata": {},
   "outputs": [
    {
     "data": {
      "text/html": [
       "<div>\n",
       "<style scoped>\n",
       "    .dataframe tbody tr th:only-of-type {\n",
       "        vertical-align: middle;\n",
       "    }\n",
       "\n",
       "    .dataframe tbody tr th {\n",
       "        vertical-align: top;\n",
       "    }\n",
       "\n",
       "    .dataframe thead th {\n",
       "        text-align: right;\n",
       "    }\n",
       "</style>\n",
       "<table border=\"1\" class=\"dataframe\">\n",
       "  <thead>\n",
       "    <tr style=\"text-align: right;\">\n",
       "      <th></th>\n",
       "      <th>ETHUSD</th>\n",
       "      <th>BTCUSD</th>\n",
       "      <th>XRPUSD</th>\n",
       "      <th>ADAUSD</th>\n",
       "      <th>DOTUSD</th>\n",
       "    </tr>\n",
       "    <tr>\n",
       "      <th>dtime</th>\n",
       "      <th></th>\n",
       "      <th></th>\n",
       "      <th></th>\n",
       "      <th></th>\n",
       "      <th></th>\n",
       "    </tr>\n",
       "  </thead>\n",
       "  <tbody>\n",
       "    <tr>\n",
       "      <th>2020-08-19</th>\n",
       "      <td>-0.036261</td>\n",
       "      <td>-0.016834</td>\n",
       "      <td>-0.043864</td>\n",
       "      <td>-0.056516</td>\n",
       "      <td>-0.063863</td>\n",
       "    </tr>\n",
       "    <tr>\n",
       "      <th>2020-08-20</th>\n",
       "      <td>0.020953</td>\n",
       "      <td>0.009076</td>\n",
       "      <td>0.008723</td>\n",
       "      <td>0.035059</td>\n",
       "      <td>-0.002918</td>\n",
       "    </tr>\n",
       "    <tr>\n",
       "      <th>2020-08-21</th>\n",
       "      <td>-0.070599</td>\n",
       "      <td>-0.029240</td>\n",
       "      <td>-0.046364</td>\n",
       "      <td>-0.087043</td>\n",
       "      <td>0.056341</td>\n",
       "    </tr>\n",
       "  </tbody>\n",
       "</table>\n",
       "</div>"
      ],
      "text/plain": [
       "              ETHUSD    BTCUSD    XRPUSD    ADAUSD    DOTUSD\n",
       "dtime                                                       \n",
       "2020-08-19 -0.036261 -0.016834 -0.043864 -0.056516 -0.063863\n",
       "2020-08-20  0.020953  0.009076  0.008723  0.035059 -0.002918\n",
       "2020-08-21 -0.070599 -0.029240 -0.046364 -0.087043  0.056341"
      ]
     },
     "execution_count": 34,
     "metadata": {},
     "output_type": "execute_result"
    }
   ],
   "source": [
    "df_close_diff = df_close.apply(np.log).diff().dropna()\n",
    "df_close_diff.head(3)"
   ]
  },
  {
   "cell_type": "markdown",
   "id": "4a2944bc-5a7c-439f-a3b5-583331ee483e",
   "metadata": {},
   "source": [
    "### k-medoids clustering for index-tracking\n",
    "$$\n",
    "\\begin{aligned}\n",
    "& \\underset{x}{\\text{minimize}} & & -\\frac{\\alpha}{2} \\cdot x^TDx + \\beta \\cdot (1^TD) x\\\\\n",
    "        &\\text{subject to}&& \\mathbf{1}^Tx = k\\\\\n",
    "        &&& x \\in \\{0,1\\}\\\\\n",
    "        &\\text{where}&& \\alpha = \\frac{1}{k-1}, \\beta  = \\frac{1}{n-1}\n",
    "\\end{aligned}\n",
    "$$"
   ]
  },
  {
   "cell_type": "code",
   "execution_count": 35,
   "id": "d1c189fd-b47c-4724-a151-304958de0754",
   "metadata": {},
   "outputs": [],
   "source": [
    "from gurobipy import Model, GRB"
   ]
  },
  {
   "cell_type": "code",
   "execution_count": 157,
   "id": "ed78438d-dafc-4578-bcb0-9e00d7dcfa20",
   "metadata": {},
   "outputs": [],
   "source": [
    "def obj_val(x):\n",
    "    return -alpha * 0.5 * (x @ D @ x) + beta * (np.ones(n).dot(D) @ x)"
   ]
  },
  {
   "cell_type": "code",
   "execution_count": 158,
   "id": "aa60b1cd-6214-4d5a-81b8-482b209ee681",
   "metadata": {},
   "outputs": [
    {
     "name": "stdout",
     "output_type": "stream",
     "text": [
      "Gurobi Optimizer version 9.1.2 build v9.1.2rc0 (linux64)\n",
      "Thread count: 4 physical cores, 8 logical processors, using up to 8 threads\n",
      "Optimize a model with 1 rows, 5 columns and 5 nonzeros\n",
      "Model fingerprint: 0x19fff7f2\n",
      "Model has 10 quadratic objective terms\n",
      "Variable types: 0 continuous, 5 integer (5 binary)\n",
      "Coefficient statistics:\n",
      "  Matrix range     [1e+00, 1e+00]\n",
      "  Objective range  [2e-01, 2e-01]\n",
      "  QObjective range [3e-01, 5e-01]\n",
      "  Bounds range     [1e+00, 1e+00]\n",
      "  RHS range        [2e+00, 2e+00]\n",
      "Found heuristic solution: objective 0.2187415\n",
      "Presolve time: 0.00s\n",
      "Presolved: 11 rows, 15 columns, 35 nonzeros\n",
      "Variable types: 0 continuous, 15 integer (15 binary)\n",
      "\n",
      "Root relaxation: objective -3.989043e-01, 4 iterations, 0.00 seconds\n",
      "\n",
      "    Nodes    |    Current Node    |     Objective Bounds      |     Work\n",
      " Expl Unexpl |  Obj  Depth IntInf | Incumbent    BestBd   Gap | It/Node Time\n",
      "\n",
      "     0     0   -0.39890    0    5    0.21874   -0.39890   282%     -    0s\n",
      "H    0     0                       0.1921755   -0.39890   308%     -    0s\n",
      "H    0     0                       0.1905866   -0.39890   309%     -    0s\n",
      "\n",
      "Cutting planes:\n",
      "  Gomory: 1\n",
      "  MIR: 4\n",
      "  StrongCG: 1\n",
      "  Mod-K: 1\n",
      "  RLT: 3\n",
      "\n",
      "Explored 1 nodes (4 simplex iterations) in 0.02 seconds\n",
      "Thread count was 8 (of 8 available processors)\n",
      "\n",
      "Solution count 3: 0.190587 0.192176 0.218742 \n",
      "\n",
      "Optimal solution found (tolerance 1.00e-04)\n",
      "Best objective 1.905865737775e-01, best bound 1.905865737775e-01, gap 0.0000%\n",
      "Gurobi selected:         ['ETHUSD', 'XRPUSD']\n",
      "Gurobi optimal solution: [1, 0, 1, 0, 0]\n",
      "Gurobi optimal value:    0.1905865737775051\n"
     ]
    }
   ],
   "source": [
    "m = Model(\"k-medoids\")\n",
    "x = {}\n",
    "n = len(coins)\n",
    "k = 2\n",
    "alpha = 1 / (k-1)\n",
    "beta = 1 / (n-1)\n",
    "D = df_close_diff.corr()\n",
    "D = 0.5*(1- D)\n",
    "D = D.apply(np.sqrt)\n",
    "D = 1 - (-0.5 * D).apply(np.exp)\n",
    "D = D.values\n",
    "\n",
    "x = m.addMVar(shape=n,vtype=GRB.BINARY, name=coins)\n",
    "obj = -alpha * 0.5 * (x @ D @ x) +  beta * (np.ones(n).dot(D) @ x)\n",
    "m.addConstr(x.sum()==k)\n",
    "m.setObjective(obj, GRB.MINIMIZE)\n",
    "m.optimize()\n",
    "\n",
    "selected = []\n",
    "gurobi   = []\n",
    "for v in m.getVars():\n",
    "    gurobi.append(int(v.x))\n",
    "    if v.x == 1:\n",
    "        selected.append(v.VarName)\n",
    "print(f\"Gurobi selected:         {selected}\")\n",
    "print(f\"Gurobi optimal solution: {gurobi}\")\n",
    "print(f\"Gurobi optimal value:    {obj_val(gurobi)}\")"
   ]
  },
  {
   "cell_type": "markdown",
   "id": "50352434-d61a-43e5-9a33-cd626826eb16",
   "metadata": {
    "tags": []
   },
   "source": [
    "### D-wave Quantum Annealing Simulator"
   ]
  },
  {
   "cell_type": "markdown",
   "id": "99ed9f1a-8d49-4e87-9bf1-8650d561a08a",
   "metadata": {},
   "source": [
    "#### convert our constrained problem to QUBO problem\n",
    "$$\n",
    "\\begin{aligned}\n",
    "& \\underset{x}{\\text{minimize}} & & -\\frac{\\alpha}{2} (x^T D  x) + \\beta (\\mathbf{1}^T D)  x +  P \\cdot (\\mathbf{1}^Tx - k)^2\\\\\n",
    "        &&& x \\in \\{0,1\\}\\\\\n",
    "\\end{aligned}\n",
    "$$\n"
   ]
  },
  {
   "cell_type": "markdown",
   "id": "5f389361-c5c8-483a-8fdc-15433378677f",
   "metadata": {},
   "source": [
    "We approximate $P$ using naive approximation.\n",
    "\n",
    "The penalty term $P$ multiplies by squared deviations from feasibility, and the unit penalty is observed when we have ($k\\pm1$) non-zero entries.\n",
    "\n",
    "Let $\\bar{\\delta}$ be an average distance matrix $\\bar{D}$;\n",
    "\n",
    "$$\n",
    "\\bar{\\delta} = \\begin{cases} \n",
    "\\frac{1}{n(n-1)}\\sum_{i=1}^n\\sum_{j=1}^n D_{ij} &\\mbox{if } i \\neq j \\\\\n",
    "0 & \\mbox{otherwise } \n",
    "\\end{cases}\n",
    "$$\n",
    "\n",
    "Suppose $x^*$ is a solution containing $k$ nodes, and $x^-$ is a solution containing $k-1$ nodes and $x^+$ is a solution containing $k+1$ nodes. Also let f(x) be the QUBO objective function. We then have the following approximation:\n",
    "\n",
    "- $f(x^*) \\approx \\left(\\beta\\sum_{i=1}^n x^*_i \\sum_{j=1}^n \\bar{\\delta}\\right) - \\left(\\frac{\\alpha}{2}\\sum_{i=1}^n \\sum_{j=1}^n x^*_i x^*_j \\bar{\\delta}\\right) \\approx \\beta k n \\bar{\\delta} - \\frac{\\alpha}{2}k(k-1)\\bar{\\delta}$\n",
    "\n",
    "- $f(x^-) \\approx \\left(\\beta\\sum_{i=1}^n x^-_i \\sum_{j=1}^n \\bar{\\delta}\\right) - \\left(\\frac{\\alpha}{2}\\sum_{i=1}^n \\sum_{j=1}^n x^-_i x^-_j \\bar{\\delta}\\right) \\approx \\beta(k-1)n\\bar{\\delta} - \\frac{\\alpha}{2}(k-1)(k-2)\\bar{\\delta}$\n",
    "\n",
    "- $f(x^+) \\approx \\left(\\beta\\sum_{i=1}^n x^+_i \\sum_{j=1}^n \\bar{\\delta}\\right) - \\left(\\frac{\\alpha}{2}\\sum_{i=1}^n \\sum_{j=1}^n x^+_i x^+_j \\bar{\\delta}\\right) \\approx \\beta(k+1)n\\bar{\\delta} - \\frac{\\alpha}{2}(k+1)k\\bar{\\delta}$\n",
    "\n",
    "We take $P = max ( f(x^*) - f(x^-) , f(x^*) -f(x^+) ) = max(\\frac{\\bar{\\delta}}{n-1}, (\\frac{1}{k-1} - \\frac{1}{n-1})\\bar{\\delta})$"
   ]
  },
  {
   "cell_type": "code",
   "execution_count": 103,
   "id": "552f8159-ac5d-43ea-a0de-d461e63e2560",
   "metadata": {},
   "outputs": [
    {
     "name": "stdout",
     "output_type": "stream",
     "text": [
      "average distance: 0.1995 and penalty term: 2.5\n"
     ]
    }
   ],
   "source": [
    "# average distance between nodes\n",
    "d = np.sum(D)\n",
    "d /= (n*(n-1))\n",
    "\n",
    "# penalty P is defined using the equation above\n",
    "P = max( d/(n-1), (1/(k-1) - 1/(n-1))*d )\n",
    "P = 2.5\n",
    "\n",
    "print(f\"average distance: {round(d,4)} and penalty term: {round(P,4)}\")"
   ]
  },
  {
   "cell_type": "markdown",
   "id": "5c86dbe3-d3a4-4f9c-bfad-4cf786fe168f",
   "metadata": {},
   "source": [
    "Now that we have found the ideal candidate for the penalty term $P$, we formulate our problem as a QUBO problem\n",
    "\n",
    "\n",
    "$$\n",
    "\\begin{aligned}\n",
    "&&objective=& -\\frac{\\alpha}{2} (x^T D  x) + \\beta (\\mathbf{1}^T D)  x +  P \\cdot (\\mathbf{1}^Tx - k)^2\\\\\n",
    "        &&=& -\\frac{\\alpha}{2} (x^T D  x) + \\beta (\\mathbf{1}^T D)  x +  P(\\mathbf{1}^Tx - k)^T(\\mathbf{1}^Tx - k)\\\\\n",
    "        &&=& -\\frac{\\alpha}{2} (x^T D  x) + \\beta (\\mathbf{1}^T D)  x +  P(x^T\\mathbf{1}\\mathbf{1}^Tx - 2k\\mathbf{1}^Tx + k^2)\\\\\n",
    "        &&=& x^T(P\\mathbf{1}\\mathbf{1}^T-\\frac{\\alpha}{2} D)x + (\\beta \\mathbf{1}^T D - 2k\\mathbf{1}^T)  x  + Pk^2\n",
    "\\end{aligned}\n",
    "$$\n",
    "\n",
    "We set $Q = (P\\mathbf{1}\\mathbf{1}^T-\\frac{\\alpha}{2} D)$ and $b = (\\beta \\mathbf{1}^T D - 2k\\mathbf{1}^T)$. Constant does not effect our optimization, but we will denote our constant as $c=Pk^2$.\n"
   ]
  },
  {
   "cell_type": "code",
   "execution_count": 144,
   "id": "d6c01f17-29f8-4333-93f5-7a944ac92ed7",
   "metadata": {},
   "outputs": [],
   "source": [
    "Q = P*np.ones((n,n)) - alpha/2*D\n",
    "b = beta*np.ones(n).dot(D) - 2*P*k*np.ones(n)\n",
    "c = P*k**2"
   ]
  },
  {
   "cell_type": "code",
   "execution_count": 150,
   "id": "717258c6-dc52-4e9b-849d-af133e8b58f3",
   "metadata": {},
   "outputs": [
    {
     "name": "stdout",
     "output_type": "stream",
     "text": [
      "number of assets: 5, quadratic term dim: (5, 5),\n",
      "bias term dim: (5,), constant term: 10.0\n"
     ]
    }
   ],
   "source": [
    "print(f\"number of assets: {n}, quadratic term dim: {Q.shape},\\nbias term dim: {b.shape}, constant term: {round(c,4)}\")"
   ]
  },
  {
   "cell_type": "code",
   "execution_count": 153,
   "id": "9a78bc0f-a718-4545-8d27-f311e141276d",
   "metadata": {},
   "outputs": [],
   "source": [
    "def qubo_obj(x):\n",
    "    obj = x.dot(Q).dot(x) + b.dot(x) + c\n",
    "    return obj"
   ]
  },
  {
   "cell_type": "code",
   "execution_count": 169,
   "id": "af718859-c7ba-44cf-8c77-48549d783a72",
   "metadata": {},
   "outputs": [
    {
     "name": "stdout",
     "output_type": "stream",
     "text": [
      "10100: 0.1906\n",
      "01010: 0.1921\n",
      "00101: 0.1922\n",
      "01100: 0.1948\n",
      "01001: 0.1972\n",
      "10010: 0.2005\n",
      "00110: 0.2016\n",
      "00011: 0.2017\n",
      "10001: 0.2051\n",
      "11000: 0.2187\n",
      "01101: 2.4707\n",
      "01110: 2.4747\n",
      "00111: 2.475\n",
      "10101: 2.4863\n",
      "10110: 2.4909\n",
      "01011: 2.4942\n",
      "11100: 2.5093\n",
      "10011: 2.5225\n",
      "11010: 2.5333\n",
      "11001: 2.5432\n",
      "10000: 2.6823\n",
      "01000: 2.6944\n",
      "00001: 2.7011\n",
      "00010: 2.7014\n",
      "00100: 2.7181\n",
      "01111: 9.5497\n",
      "10111: 9.5859\n",
      "11110: 9.606\n",
      "11101: 9.6068\n",
      "11011: 9.657\n",
      "00000: 10.0\n",
      "11111: 21.5027\n"
     ]
    }
   ],
   "source": [
    "possible_solution = {}\n",
    "possible_num_solution = 2**n\n",
    "for sol in range(possible_num_solution):\n",
    "    binary_sol = format(sol,'b')\n",
    "    \n",
    "    if len(binary_sol) < n:\n",
    "        binary_sol = '0'*(n - len(binary_sol)) + binary_sol\n",
    "    binary_sol_array = [int(x) for x in binary_sol]\n",
    "    binary_sol_array = np.array(binary_sol_array)\n",
    "    possible_solution[binary_sol] = qubo_obj(binary_sol_array)\n",
    "    non_qubo = obj_val(binary_sol_array)\n",
    "    non_qubo += (sum(binary_sol_array)-k)**2 * P\n",
    "    qubo = qubo_obj(binary_sol_array)\n",
    "    if round(qubo, 8) != round(non_qubo, 8):\n",
    "        print(\"hold on, something is wrong here\")\n",
    "        print(f\"qubo: {round(qubo, 6)} ||| non-qubo: {round(non_qubo, 6)}\")\n",
    "\n",
    "possible_solution = {k: v for k, v in sorted(possible_solution.items(), key=lambda item: item[1])}\n",
    "for sol in possible_solution:\n",
    "    print(f\"{sol}: {round(possible_solution[sol],4)}\")"
   ]
  },
  {
   "cell_type": "code",
   "execution_count": 151,
   "id": "fde94973-0b4c-47c4-82ac-fd57d4e80185",
   "metadata": {},
   "outputs": [],
   "source": [
    "import dimod"
   ]
  },
  {
   "cell_type": "code",
   "execution_count": 175,
   "id": "8f1f88a5-fb43-4d98-a44d-f04fe43350ae",
   "metadata": {},
   "outputs": [],
   "source": [
    "qubo = {}\n",
    "\n",
    "for i in range(n):\n",
    "    for j in range(i,n):\n",
    "        if i == j:\n",
    "            qubo[(i,j)] = b[i] + Q[i][i]\n",
    "        else:\n",
    "            qubo[(i,j)] = 2*Q[i][j]"
   ]
  },
  {
   "cell_type": "code",
   "execution_count": 176,
   "id": "bc5f9a7b-d637-43f6-9651-f588e7a08f78",
   "metadata": {},
   "outputs": [
    {
     "name": "stdout",
     "output_type": "stream",
     "text": [
      "    0  1  2  3  4    energy num_oc.\n",
      "6   1  0  1  0  0 -9.809413       1\n",
      "12  0  1  0  1  0  -9.80793       1\n",
      "24  0  0  1  0  1 -9.807824       1\n",
      "4   0  1  1  0  0 -9.805181       1\n",
      "28  0  1  0  0  1 -9.802771       1\n",
      "14  1  0  0  1  0 -9.799467       1\n",
      "8   0  0  1  1  0   -9.7984       1\n",
      "16  0  0  0  1  1 -9.798296       1\n",
      "30  1  0  0  0  1 -9.794935       1\n",
      "2   1  1  0  0  0 -9.781258       1\n",
      "27  0  1  1  0  1 -7.529348       1\n",
      "11  0  1  1  1  0 -7.525349       1\n",
      "23  0  0  1  1  1 -7.525044       1\n",
      "25  1  0  1  0  1 -7.513677       1\n",
      "9   1  0  1  1  0 -7.509051       1\n",
      "19  0  1  0  1  1 -7.505843       1\n",
      "5   1  1  1  0  0 -7.490671       1\n",
      "17  1  0  0  1  1 -7.477477       1\n",
      "13  1  1  0  1  0 -7.466748       1\n",
      "29  1  1  0  0  1 -7.456791       1\n",
      "1   1  0  0  0  0 -7.317665       1\n",
      "3   0  1  0  0  0 -7.305598       1\n",
      "31  0  0  0  0  1 -7.298911       1\n",
      "15  0  0  0  1  0 -7.298645       1\n",
      "7   0  0  1  0  0  -7.28192       1\n",
      "20  0  1  1  1  1 -0.450255       1\n",
      "22  1  0  1  1  1 -0.414054       1\n",
      "10  1  1  1  1  0 -0.393995       1\n",
      "26  1  1  1  0  1 -0.393197       1\n",
      "18  1  1  0  1  1  -0.34302       1\n",
      "0   0  0  0  0  0       0.0       1\n",
      "21  1  1  1  1  1 11.502739       1\n",
      "['BINARY', 32 rows, 32 samples, 5 variables]\n"
     ]
    }
   ],
   "source": [
    "dict_bqm = dimod.BQM.from_qubo(qubo)\n",
    "sampler_exact = dimod.ExactSolver()\n",
    "sampleset = sampler_exact.sample(dict_bqm)\n",
    "print(sampleset)"
   ]
  }
 ],
 "metadata": {
  "kernelspec": {
   "display_name": "Python 3 (ipykernel)",
   "language": "python",
   "name": "python3"
  },
  "language_info": {
   "codemirror_mode": {
    "name": "ipython",
    "version": 3
   },
   "file_extension": ".py",
   "mimetype": "text/x-python",
   "name": "python",
   "nbconvert_exporter": "python",
   "pygments_lexer": "ipython3",
   "version": "3.8.12"
  }
 },
 "nbformat": 4,
 "nbformat_minor": 5
}

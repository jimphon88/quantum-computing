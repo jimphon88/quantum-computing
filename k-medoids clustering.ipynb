{
 "cells": [
  {
   "cell_type": "code",
   "execution_count": null,
   "id": "cc76309a-0182-4729-bd30-1bfb95f21638",
   "metadata": {},
   "outputs": [],
   "source": []
  },
  {
   "cell_type": "code",
   "execution_count": 1,
   "id": "9874dbf0-1673-4db8-9499-e232c25737b1",
   "metadata": {},
   "outputs": [],
   "source": [
    "import pandas as pd\n",
    "import numpy as np\n",
    "import math\n",
    "import datetime\n",
    "import matplotlib.pyplot as plt\n",
    "import seaborn as sns\n",
    "from time import sleep as fallasleep\n",
    "import os, sys"
   ]
  },
  {
   "cell_type": "code",
   "execution_count": 3,
   "id": "f827bd69-582b-4808-9f2b-0fc3be456b5a",
   "metadata": {},
   "outputs": [],
   "source": [
    "from src import colortools"
   ]
  },
  {
   "cell_type": "code",
   "execution_count": 2,
   "id": "2c52a8af-e498-4321-be7c-1fc18267346d",
   "metadata": {},
   "outputs": [],
   "source": [
    "import krakenex\n",
    "from pykrakenapi import KrakenAPI"
   ]
  },
  {
   "cell_type": "code",
   "execution_count": 4,
   "id": "4788c0ad-eddc-42e0-8de2-3e1d17eeedaa",
   "metadata": {},
   "outputs": [],
   "source": [
    "api = krakenex.API()\n",
    "k = KrakenAPI(api)\n",
    "coins = [\"ETH\", \"BTC\", \"XRP\", \"ADA\", \"DOT\"]\n",
    "gapmin= 1440\n",
    "coins = [coin+\"USD\" for coin in coins]\n",
    "df = {}\n",
    "colormapper = {}\n",
    "for _,coin in enumerate(coins):\n",
    "    data, last = k.get_ohlc_data(coin, interval = gapmin, ascending = True)\n",
    "    df[coin]=data.drop(['time', 'count'], axis=1)\n",
    "    colormapper[coin] = color_box[_]\n",
    "    fallasleep(1)\n"
   ]
  },
  {
   "cell_type": "markdown",
   "id": "4a2944bc-5a7c-439f-a3b5-583331ee483e",
   "metadata": {},
   "source": [
    "### k-medoids clustering for index-tracking\n",
    "$$\n",
    "\\begin{aligned}\n",
    "& \\underset{x}{\\text{minimize}} & & -\\alpha \\cdot x^TDx + \\beta \\cdot (1^TD) x\\\\\n",
    "        &\\text{subject to}&& \\mathbf{1}^Tx = k\\\\\n",
    "        &&& x \\in \\{0,1\\}\\\\\n",
    "        &\\text{where}&& \\alpha = \\frac{1}{n-1}, \\beta  = \\frac{1}{k-1}\n",
    "\\end{aligned}\n",
    "$$"
   ]
  },
  {
   "cell_type": "code",
   "execution_count": 47,
   "id": "aa60b1cd-6214-4d5a-81b8-482b209ee681",
   "metadata": {},
   "outputs": [
    {
     "name": "stdout",
     "output_type": "stream",
     "text": [
      "Gurobi Optimizer version 9.1.2 build v9.1.2rc0 (linux64)\n",
      "Thread count: 4 physical cores, 8 logical processors, using up to 8 threads\n",
      "Optimize a model with 1 rows, 5 columns and 5 nonzeros\n",
      "Model fingerprint: 0x1de32f54\n",
      "Model has 10 quadratic objective terms\n",
      "Variable types: 0 continuous, 5 integer (5 binary)\n",
      "Coefficient statistics:\n",
      "  Matrix range     [1e+00, 1e+00]\n",
      "  Objective range  [2e-01, 2e-01]\n",
      "  QObjective range [3e-01, 5e-01]\n",
      "  Bounds range     [1e+00, 1e+00]\n",
      "  RHS range        [2e+00, 2e+00]\n",
      "Found heuristic solution: objective 0.2192381\n",
      "Presolve time: 0.00s\n",
      "Presolved: 11 rows, 15 columns, 35 nonzeros\n",
      "Variable types: 0 continuous, 15 integer (15 binary)\n",
      "\n",
      "Root relaxation: objective -3.998228e-01, 4 iterations, 0.00 seconds\n",
      "\n",
      "    Nodes    |    Current Node    |     Objective Bounds      |     Work\n",
      " Expl Unexpl |  Obj  Depth IntInf | Incumbent    BestBd   Gap | It/Node Time\n",
      "\n",
      "     0     0   -0.39982    0    5    0.21924   -0.39982   282%     -    0s\n",
      "H    0     0                       0.1926699   -0.39982   308%     -    0s\n",
      "H    0     0                       0.1910538   -0.39982   309%     -    0s\n",
      "\n",
      "Cutting planes:\n",
      "  Gomory: 1\n",
      "  MIR: 4\n",
      "  StrongCG: 1\n",
      "  Mod-K: 1\n",
      "  RLT: 3\n",
      "\n",
      "Explored 1 nodes (4 simplex iterations) in 0.04 seconds\n",
      "Thread count was 8 (of 8 available processors)\n",
      "\n",
      "Solution count 3: 0.191054 0.19267 0.219238 \n",
      "\n",
      "Optimal solution found (tolerance 1.00e-04)\n",
      "Best objective 1.910537715181e-01, best bound 1.910537715181e-01, gap 0.0000%\n",
      "Gurobi selected:         ['ETHUSD', 'XRPUSD']\n",
      "Gurobi optimal solution: [1, 0, 1, 0, 0]\n",
      "Gurobi optimal value:    -0.0005151439065986334\n"
     ]
    }
   ],
   "source": [
    "m = Model(\"k-medoids\")\n",
    "x = {}\n",
    "n = len(Q)\n",
    "k = 2\n",
    "beta = 1 / (2 * (k-1))\n",
    "alpha = 1 / (n-1)\n",
    "D = df_close_diff.corr()\n",
    "D = 0.5*(1- D)\n",
    "D = D.apply(np.sqrt)\n",
    "D = 1 - (-0.5 * D).apply(np.exp)\n",
    "D = D.values\n",
    "\n",
    "x = m.addMVar(shape=n,vtype=GRB.BINARY, name=coins)\n",
    "obj = -beta * (x @ D @ x) + alpha * (np.ones(n).dot(D) @ x)\n",
    "m.addConstr(x.sum()==k)\n",
    "m.setObjective(obj, GRB.MINIMIZE)\n",
    "m.optimize()\n",
    "\n",
    "selected = []\n",
    "gurobi   = []\n",
    "for v in m.getVars():\n",
    "    gurobi.append(int(v.x))\n",
    "    if v.x == 1:\n",
    "        selected.append(v.VarName)\n",
    "print(f\"Gurobi selected:         {selected}\")\n",
    "print(f\"Gurobi optimal solution: {gurobi}\")\n",
    "print(f\"Gurobi optimal value:    {obj_val(gurobi)}\")"
   ]
  }
 ],
 "metadata": {
  "kernelspec": {
   "display_name": "Python 3 (ipykernel)",
   "language": "python",
   "name": "python3"
  },
  "language_info": {
   "codemirror_mode": {
    "name": "ipython",
    "version": 3
   },
   "file_extension": ".py",
   "mimetype": "text/x-python",
   "name": "python",
   "nbconvert_exporter": "python",
   "pygments_lexer": "ipython3",
   "version": "3.8.12"
  }
 },
 "nbformat": 4,
 "nbformat_minor": 5
}

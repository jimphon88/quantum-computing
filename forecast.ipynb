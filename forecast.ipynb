{
 "cells": [
  {
   "cell_type": "code",
   "execution_count": 12,
   "id": "fcfaa506-c92b-47d5-b864-49ae673e6a3b",
   "metadata": {},
   "outputs": [],
   "source": [
    "import pandas as pd\n",
    "import numpy as np\n",
    "import math\n",
    "from time import sleep as fallasleep\n",
    "import os, sys"
   ]
  },
  {
   "cell_type": "code",
   "execution_count": 8,
   "id": "40027c27-487e-4308-8cdf-6ba3a717b2df",
   "metadata": {},
   "outputs": [],
   "source": [
    "import krakenex\n",
    "from pykrakenapi import KrakenAPI"
   ]
  },
  {
   "cell_type": "code",
   "execution_count": 14,
   "id": "2be0984e-e834-4f75-8670-99a866c53fdb",
   "metadata": {},
   "outputs": [],
   "source": [
    "color_box = ['#1f77b4','#ff7f0e','#2ca02c','#d62728',\n",
    "             '#9467bd','#8c564b','#e377c2','#7f7f7f',\n",
    "             '#bcdb22','#17becf']"
   ]
  },
  {
   "cell_type": "code",
   "execution_count": 15,
   "id": "49f74d25-03fc-4f21-a2b3-71fbbaf1ca94",
   "metadata": {},
   "outputs": [],
   "source": [
    "api = krakenex.API()\n",
    "k = KrakenAPI(api)\n",
    "coins = [\"ETH\", \"BTC\", \"XRP\", \"ADA\", \"DOT\"]\n",
    "gapmin= 1440\n",
    "coins = [coin+\"USD\" for coin in coins]\n",
    "df = {}\n",
    "colormapper = {}\n",
    "for _,coin in enumerate(coins):\n",
    "    data, last = k.get_ohlc_data(coin, interval = gapmin, ascending = True)\n",
    "    df[coin]=data\n",
    "    colormapper[coin] = color_box[_]\n",
    "    fallasleep(1)\n"
   ]
  },
  {
   "cell_type": "markdown",
   "id": "6bd72655-73f0-4720-bbe1-ea5e9dde2d17",
   "metadata": {},
   "source": [
    "##### Recall from `causation.ipynb` that price of the Bitcoin can be predicted with using all other 4 coins."
   ]
  },
  {
   "cell_type": "code",
   "execution_count": null,
   "id": "5f9367c7-253c-4dbe-8f70-567dd6f131c3",
   "metadata": {},
   "outputs": [],
   "source": []
  }
 ],
 "metadata": {
  "kernelspec": {
   "display_name": "Python 3",
   "language": "python",
   "name": "python3"
  },
  "language_info": {
   "codemirror_mode": {
    "name": "ipython",
    "version": 3
   },
   "file_extension": ".py",
   "mimetype": "text/x-python",
   "name": "python",
   "nbconvert_exporter": "python",
   "pygments_lexer": "ipython3",
   "version": "3.8.8"
  }
 },
 "nbformat": 4,
 "nbformat_minor": 5
}

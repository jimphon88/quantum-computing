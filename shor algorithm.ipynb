{
 "cells": [
  {
   "cell_type": "markdown",
   "id": "24b46d5c-2057-47e7-8379-46799b821723",
   "metadata": {},
   "source": [
    "# Any natural number can be expressed as a product of prime numbers, $N = \\Pi_{k=1}^K p_k ^{n_k}$.\n",
    "#### here $p_k$ is a prime number and $n_k$ is a natural number."
   ]
  },
  {
   "cell_type": "markdown",
   "id": "3544801b-2558-4098-bd6d-7d624ff74da5",
   "metadata": {},
   "source": [
    "## Factor a number $N=p\\cdot q$, where $p, q$ are prime number.\n",
    "\n",
    "(This is used in RSA cryptosystem)"
   ]
  },
  {
   "cell_type": "markdown",
   "id": "14506047-a9f9-413f-b105-18a7aa050f9a",
   "metadata": {},
   "source": [
    "### IDEA:\n",
    "\n",
    "If $N$ is not a prime number, then $N$ has some interesting properties.\\\n",
    "Let us try to find some variable $x$ that satisfies $x^2\\equiv 1 (\\text{ mod }N)$. One can easily find that $x=1$ satisfies the relation for any $N$, but this is trivial and doesn't give us much hints. what about $x\\equiv N-1 (\\text{ mod }N)$, or $x \\equiv -1 (\\text{ mod }N)$?\n",
    "\n",
    "We see that $$x^2 \\equiv (N-1)^2 (\\text{ mod }N) \\equiv N^2 - 2N + 1(\\text{ mod }N) \\equiv 1 (\\text{ mod }N)$$\n",
    "\n",
    "This means $x^2 -1 \\equiv 0 (\\text{ mod } N)$, in other words, $N$ divides $(x+1)(x-1)$. This implies either $x+1$ shares a common factor with $N$ or $x-1$ shares a common factor with $N$.\n",
    "\n",
    "For a number $N$ that cannot be expressed as a product of two prime numbers, this way of thining will normally bring you nowhere, but for $N$ that can is an interesting way to think about it.\n",
    "\n",
    "If $N=p \\cdot q$, wher $p$ and $q$ are both prime numbers, then $x+1$ is a prime number or $x-1$ is a prime number."
   ]
  },
  {
   "cell_type": "markdown",
   "id": "46135663-cff5-482f-96a1-a2a09c5f8977",
   "metadata": {},
   "source": [
    "### Process:\n",
    "1. pick a random number $x$ (natural number).\n",
    "2. compute $x^k$ for $k \\in \\{0, 1, 2, \\ldots,r \\}$ until we get $x^r \\equiv 1 (\\text{ mod } N)$\n",
    "3. if $r$ is even, then check $x^{r/2} \\not\\equiv \\pm1 (\\text{ mod } N)$\n",
    "4. if $x^{r/2} \\not\\equiv \\pm1 (\\text{ mod } N)$ holds, then $(x^{r/2} - 1)(x^{r/2} + 1) \\equiv 0 (\\text{ mod } N)$, so at least one of $(x^{r/2} - 1)$ or $(x^{r/2} + 1)$ shares a prime factor with $N$."
   ]
  },
  {
   "cell_type": "markdown",
   "id": "1234b5db-16e4-4eee-8bec-d7046ffeabf7",
   "metadata": {},
   "source": [
    "Classic algorithm"
   ]
  },
  {
   "cell_type": "code",
   "execution_count": 37,
   "id": "b0815901-0368-4dbc-aaef-bd3a851fdcd3",
   "metadata": {},
   "outputs": [],
   "source": [
    "import math\n",
    "from random import randint as randint"
   ]
  },
  {
   "cell_type": "code",
   "execution_count": 59,
   "id": "52e85b1c-7bf3-4dc5-a9ab-0cd85f543ed5",
   "metadata": {},
   "outputs": [],
   "source": [
    "def product(elements):\n",
    "    result = 1\n",
    "    while elements:\n",
    "        element = elements.pop()\n",
    "        result *= element\n",
    "    return result\n",
    "\n",
    "def factor_N(m, N, visited, factors):\n",
    "    if m not in visited:\n",
    "        for _ in range(N):\n",
    "            # find the mapped value\n",
    "            candidate = m ** _ % N\n",
    "\n",
    "            if candidate not in visited:\n",
    "                # append it to visited if this is the first time finding\n",
    "                visited.add(candidate)\n",
    "            else:\n",
    "                # if we already have the element, then the cycle starts.\n",
    "                break\n",
    "\n",
    "        period = len(visited)\n",
    "\n",
    "        # if period has even length,\n",
    "        if period % 2 == 0:\n",
    "            x = (m ** int(period / 2)) % N\n",
    "            x_plus  = x + 1 % N\n",
    "            x_minus = x - 1 % N\n",
    "            plus  = math.gcd(x_plus,  N)\n",
    "            minus = math.gcd(x_minus, N)\n",
    "            if plus not in factors:\n",
    "                factors.add(plus)\n",
    "            if minus not in factors:\n",
    "                factors.add(minus)\n",
    "    return factors, visited"
   ]
  },
  {
   "cell_type": "code",
   "execution_count": 132,
   "id": "3a2373a5-9530-4e2c-ae91-6c7184aca02b",
   "metadata": {},
   "outputs": [],
   "source": [
    "N = 15\n",
    "# m = 13"
   ]
  },
  {
   "cell_type": "code",
   "execution_count": 133,
   "id": "daf77e0c-8b8e-45af-a9d9-3818a1ef1d6f",
   "metadata": {},
   "outputs": [],
   "source": [
    "done = False\n",
    "factors = set({1})\n",
    "visited = set()\n",
    "tried = set({1, N})\n",
    "factors_product = 1"
   ]
  },
  {
   "cell_type": "code",
   "execution_count": 134,
   "id": "d1ba6de9-3f41-45f1-98c4-962c495ea60a",
   "metadata": {},
   "outputs": [
    {
     "name": "stdout",
     "output_type": "stream",
     "text": [
      "{3, 5}\n"
     ]
    }
   ],
   "source": [
    "while factors_product != N and not done:\n",
    "    m = randint(3,N-1)\n",
    "    if m not in tried:\n",
    "        tried.add(m)\n",
    "    # check if m is a coprime with N\n",
    "    if math.gcd(m,N) == 1:\n",
    "        factors, visited = factor_N(m, N, visited, factors)\n",
    "\n",
    "        # check if the product of factors equals N\n",
    "        factors_product = product(factors.copy())\n",
    "    if len(tried) == N:\n",
    "        print(\"N cannot be factored as p*q where both p and q are prime\")\n",
    "        done = True\n",
    "    \n",
    "        \n",
    "        \n",
    "factors.remove(1)\n",
    "print(factors)"
   ]
  },
  {
   "cell_type": "markdown",
   "id": "aad3f8aa-7ec1-4cc4-92fc-c62629f97a48",
   "metadata": {},
   "source": [
    "#### Now this method is quite slow if $N$ is very large, because we have to check $x^0, x^1, \\ldots, x^r$ until we get $x^r \\equiv 1 (\\text{ mod } N)$. Finding this period is very heavy on computing time (typically grows large as $N$ grows large).\n",
    "\n",
    "Can we use quantum computers to create a super-position of a set of natural number to a unique set of $\\left\\{x^0(\\text{ mod } N), x^1 (\\text{ mod } N), \\ldots, x^M (\\text{ mod } N) \\right\\}$?"
   ]
  },
  {
   "cell_type": "code",
   "execution_count": 136,
   "id": "c1b666ed-76eb-4601-8789-a82de98381d4",
   "metadata": {},
   "outputs": [],
   "source": [
    "from qiskit import BasicAer, QuantumCircuit, execute"
   ]
  },
  {
   "cell_type": "code",
   "execution_count": 137,
   "id": "2199cbf1-7e26-4a49-a311-a6954eb2f39d",
   "metadata": {},
   "outputs": [],
   "source": [
    "%matplotlib inline"
   ]
  },
  {
   "cell_type": "code",
   "execution_count": 141,
   "id": "9c640e25-25da-45d1-89f1-97220ece3e2a",
   "metadata": {},
   "outputs": [
    {
     "data": {
      "text/plain": [
       "15"
      ]
     },
     "execution_count": 141,
     "metadata": {},
     "output_type": "execute_result"
    }
   ],
   "source": [
    "N"
   ]
  },
  {
   "cell_type": "code",
   "execution_count": 143,
   "id": "32ab2a0d-c2bc-4387-a447-19e395f8426d",
   "metadata": {},
   "outputs": [],
   "source": [
    "m = 3"
   ]
  },
  {
   "cell_type": "code",
   "execution_count": 145,
   "id": "e51fdafc-325a-485b-8840-990d558b9133",
   "metadata": {},
   "outputs": [
    {
     "data": {
      "image/png": "[encoded data removed]",
      "text/plain": [
       "<Figure size 146.797x325.08 with 1 Axes>"
      ]
     },
     "execution_count": 145,
     "metadata": {},
     "output_type": "execute_result"
    }
   ],
   "source": [
    "# find the amount of binary variables required to express N\n",
    "n = len(format(N, 'b'))\n",
    "\n",
    "# create a circuit with n qubits and n ancilla qubits\n",
    "qc = QuantumCircuit(n,n)\n",
    "\n",
    "# first super-position all qubits so we have a uniform distribution for all possible numbers (in binary format)\n",
    "for q in range(n):\n",
    "    qc.h(q)\n",
    "    \n",
    "qc.draw('mpl')"
   ]
  },
  {
   "cell_type": "markdown",
   "id": "2fdc7019-d224-4c2f-9d40-d2a2fdc824ea",
   "metadata": {},
   "source": [
    "$$\\newcommand{\\ket}[1]{\\left|{#1}\\right\\rangle}$$\n",
    "\n",
    "### recall the step in the classical implementation that we computed `candidate = m ** _ % N`. If m is a coprime with N, then condidate follows a cycle, where it always start with 0 ($m^0 = 1$). Then the unique elements in this cycle forms an eignestate of this operations (modulus of the exponential). Let the length of this cycle be denoted as $r$. Then for any state $x$, where $x \\in \\mathbb{Z}$, let $z$ be the binary representation of this state ($z \\in \\{0,1\\}^n$, and $x = \\sum_{i=1}^r 2^{r-i}z_i$).\n",
    "\n",
    "### Let's call this operator $U$, where $U \\ket{x} = \\ket{mx \\text{ mod }N}$. We then have the following representations:\n",
    "- $U \\ket{x} = \\ket{mx \\text{ mod }N}$\n",
    "- $U^2 \\ket{x} = \\ket{m^2 x \\text{ mod }N}$\\\n",
    "$\\vdots$\n",
    "- $U^{r-1} \\ket{x} = \\ket{m^{r-1}x \\text{ mod }N}$\n",
    "- $U^r \\ket{x} = \\ket{m^r x \\text{ mod }N} = \\ket{x \\text{ mod } N}$\n",
    "\n",
    "We can see that the state $\\ket{u}$ is an eigenstate of $U$.\n",
    "\n",
    "let $\\ket{u} = \\frac{1}{\\sqrt{r}} \\sum_{k=0}^{r-1} \\ket{m^k \\text{ mod } N}$.\n",
    "\n",
    "$$\n",
    "\\begin{aligned}\n",
    "&& U\\ket{u} =& \\frac{1}{\\sqrt{r}} \\sum_{k=0}^{r-1} U\\ket{m^k \\text{ mod } N}\\\\\n",
    "&& = & \\frac{1}{\\sqrt{r}} \\sum_{k=0}^{r-1} \\ket{m^{k+1} \\text{ mod } N}\\\\\n",
    "&& = & \\frac{1}{\\sqrt{r}} \\sum_{k=1}^{r} \\ket{m^{k} \\text{ mod } N}\\\\\n",
    "&& = & \\frac{1}{\\sqrt{r}} \\sum_{k=0}^{r-1} \\ket{m^{k} \\text{ mod } N}\\\\\n",
    "&& = & \\ket{u}\n",
    "\\end{aligned}\n",
    "$$\n",
    "\n",
    "If we want $\\ket{m^{k} \\text{ mod } N}$ to form a basis, then we can express $\\ket{m^{k} \\text{ mod } N}$ using the Fourier basis.\n",
    "\n",
    "By letting $\\ket{u} = \\frac{1}{\\sqrt{r}} \\sum_{k=0}^{r-1} e^{-\\frac{2 \\pi i k}{r}} \\ket{m^k \\text{ mod } N}$, we see that \n",
    "\n",
    "$$\n",
    "\\begin{aligned}\n",
    "&& U\\ket{u} =& \\frac{1}{\\sqrt{r}} \\sum_{k=0}^{r-1} e^{-\\frac{2 \\pi i k}{r}} U\\ket{m^k \\text{ mod } N}\\\\\n",
    "&& = & \\frac{1}{\\sqrt{r}} \\sum_{k=0}^{r-1} e^{-\\frac{2 \\pi i k}{r}} \\ket{m^{k+1} \\text{ mod } N}\\\\\n",
    "&& = & \\frac{1}{\\sqrt{r}} \\sum_{k=1}^{r} e^{-\\frac{2 \\pi i (k-1)}{r}} \\ket{m^{k} \\text{ mod } N}\\\\\n",
    "&& = & e^{\\frac{2 \\pi i}{r}} \\cdot \\frac{1}{\\sqrt{r}} \\sum_{k=0}^{r-1} e^{-\\frac{2 \\pi i k}{r}} \\ket{m^{k} \\text{ mod } N}\\\\\n",
    "&& = & e^{\\frac{2 \\pi i}{r}} \\ket{u}\n",
    "\\end{aligned}\n",
    "$$\n",
    "\n",
    "\n"
   ]
  },
  {
   "cell_type": "code",
   "execution_count": null,
   "id": "e0efd4d2-4350-471f-a843-c1730428aaf9",
   "metadata": {},
   "outputs": [],
   "source": []
  }
 ],
 "metadata": {
  "kernelspec": {
   "display_name": "Python 3 (ipykernel)",
   "language": "python",
   "name": "python3"
  },
  "language_info": {
   "codemirror_mode": {
    "name": "ipython",
    "version": 3
   },
   "file_extension": ".py",
   "mimetype": "text/x-python",
   "name": "python",
   "nbconvert_exporter": "python",
   "pygments_lexer": "ipython3",
   "version": "3.8.12"
  }
 },
 "nbformat": 4,
 "nbformat_minor": 5
}

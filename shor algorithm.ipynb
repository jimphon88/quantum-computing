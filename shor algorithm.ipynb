{
 "cells": [
  {
   "cell_type": "markdown",
   "id": "24b46d5c-2057-47e7-8379-46799b821723",
   "metadata": {},
   "source": [
    "# Any natural number can be expressed as a product of prime numbers, $N = \\Pi_{k=1}^K p_k ^{n_k}$.\n",
    "#### here $p_k$ is a prime number and $n_k$ is a natural number."
   ]
  },
  {
   "cell_type": "markdown",
   "id": "3544801b-2558-4098-bd6d-7d624ff74da5",
   "metadata": {},
   "source": [
    "## Factor a number $N=p\\cdot q$, where $p, q$ are prime number.\n",
    "\n",
    "(This is used in RSA cryptosystem)"
   ]
  },
  {
   "cell_type": "markdown",
   "id": "14506047-a9f9-413f-b105-18a7aa050f9a",
   "metadata": {},
   "source": [
    "### IDEA:\n",
    "\n",
    "If $N$ is not a prime number, then $N$ has some interesting properties.\\\n",
    "Let us try to find some variable $x$ that satisfies $x^2\\equiv 1 (\\text{ mod }N)$. One can easily find that $x=1$ satisfies the relation for any $N$, but this is trivial and doesn't give us much hints. what about $x\\equiv N-1 (\\text{ mod }N)$, or $x \\equiv -1 (\\text{ mod }N)$?\n",
    "\n",
    "We see that $$x^2 \\equiv (N-1)^2 (\\text{ mod }N) \\equiv N^2 - 2N + 1(\\text{ mod }N) \\equiv 1 (\\text{ mod }N)$$\n",
    "\n",
    "This means $x^2 -1 \\equiv 0 (\\text{ mod } N)$, in other words, $N$ divides $(x+1)(x-1)$. This implies either $x+1$ shares a common factor with $N$ or $x-1$ shares a common factor with $N$.\n",
    "\n",
    "For a number $N$ that cannot be expressed as a product of two prime numbers, this way of thining will normally bring you nowhere, but for $N$ that can is an interesting way to think about it.\n",
    "\n",
    "If $N=p \\cdot q$, wher $p$ and $q$ are both prime numbers, then $x+1$ is a prime number or $x-1$ is a prime number."
   ]
  },
  {
   "cell_type": "markdown",
   "id": "46135663-cff5-482f-96a1-a2a09c5f8977",
   "metadata": {},
   "source": [
    "### Process:\n",
    "1. pick a random number $x$ (natural number), that is coprime with $N$. Otherwise, we are done. let $k$ = gcd($N$, $x$), then $N= k\\times \\frac{N}{k}$.\n",
    "2. if $x$ is a coprime with $N$, then compute $x^k$ for $k \\in \\{0, 1, 2, \\ldots,r \\}$ until we get $x^r \\equiv 1 (\\text{ mod } N)$.\n",
    "3. if $r$ is even, then check $x^{r/2} \\not\\equiv \\pm1 (\\text{ mod } N)$.\n",
    "4. if $x^{r/2} \\not\\equiv \\pm1 (\\text{ mod } N)$ holds, then $(x^{r/2} - 1)(x^{r/2} + 1) \\equiv 0 (\\text{ mod } N)$, so at least one of $(x^{r/2} - 1)$ or $(x^{r/2} + 1)$ shares a prime factor with $N$."
   ]
  },
  {
   "cell_type": "markdown",
   "id": "1234b5db-16e4-4eee-8bec-d7046ffeabf7",
   "metadata": {},
   "source": [
    "Classic algorithm"
   ]
  },
  {
   "cell_type": "code",
   "execution_count": 2,
   "id": "b0815901-0368-4dbc-aaef-bd3a851fdcd3",
   "metadata": {},
   "outputs": [],
   "source": [
    "import math\n",
    "from random import randint as randint"
   ]
  },
  {
   "cell_type": "code",
   "execution_count": 3,
   "id": "52e85b1c-7bf3-4dc5-a9ab-0cd85f543ed5",
   "metadata": {},
   "outputs": [],
   "source": [
    "def product(elements):\n",
    "    result = 1\n",
    "    while elements:\n",
    "        element = elements.pop()\n",
    "        result *= element\n",
    "    return result\n",
    "\n",
    "def factor_N(m, N, visited, factors):\n",
    "    if m not in visited:\n",
    "        for _ in range(N):\n",
    "            # find the mapped value\n",
    "            candidate = m ** _ % N\n",
    "\n",
    "            if candidate not in visited:\n",
    "                # append it to visited if this is the first time finding\n",
    "                visited.add(candidate)\n",
    "            else:\n",
    "                # if we already have the element, then the cycle starts.\n",
    "                break\n",
    "\n",
    "        period = len(visited)\n",
    "\n",
    "        # if period has even length,\n",
    "        if period % 2 == 0:\n",
    "            x = (m ** int(period / 2)) % N\n",
    "            x_plus  = x + 1 % N\n",
    "            x_minus = x - 1 % N\n",
    "            plus  = math.gcd(x_plus,  N)\n",
    "            minus = math.gcd(x_minus, N)\n",
    "            if plus not in factors:\n",
    "                factors.add(plus)\n",
    "            if minus not in factors:\n",
    "                factors.add(minus)\n",
    "    return factors, visited"
   ]
  },
  {
   "cell_type": "code",
   "execution_count": 4,
   "id": "3a2373a5-9530-4e2c-ae91-6c7184aca02b",
   "metadata": {},
   "outputs": [],
   "source": [
    "N = 15\n",
    "# m = 13"
   ]
  },
  {
   "cell_type": "code",
   "execution_count": 5,
   "id": "daf77e0c-8b8e-45af-a9d9-3818a1ef1d6f",
   "metadata": {},
   "outputs": [],
   "source": [
    "done = False\n",
    "factors = set({1})\n",
    "visited = set()\n",
    "tried = set({1, N})\n",
    "factors_product = 1"
   ]
  },
  {
   "cell_type": "code",
   "execution_count": 6,
   "id": "d1ba6de9-3f41-45f1-98c4-962c495ea60a",
   "metadata": {},
   "outputs": [
    {
     "name": "stdout",
     "output_type": "stream",
     "text": [
      "{3, 5}\n"
     ]
    }
   ],
   "source": [
    "while factors_product != N and not done:\n",
    "    m = randint(3,N-1)\n",
    "    if m not in tried:\n",
    "        tried.add(m)\n",
    "    # check if m is a coprime with N\n",
    "    if math.gcd(m,N) == 1:\n",
    "        factors, visited = factor_N(m, N, visited, factors)\n",
    "\n",
    "        # check if the product of factors equals N\n",
    "        factors_product = product(factors.copy())\n",
    "    if len(tried) == N:\n",
    "        print(\"N cannot be factored as p*q where both p and q are prime\")\n",
    "        done = True\n",
    "    \n",
    "        \n",
    "        \n",
    "factors.remove(1)\n",
    "print(factors)"
   ]
  },
  {
   "cell_type": "markdown",
   "id": "3e35d668-abae-4c60-952b-b4b30ee81f16",
   "metadata": {},
   "source": [
    "#### Quantum algorithm"
   ]
  },
  {
   "cell_type": "markdown",
   "id": "aad3f8aa-7ec1-4cc4-92fc-c62629f97a48",
   "metadata": {
    "tags": []
   },
   "source": [
    "#### Now this method is quite slow if $N$ is very large, because we have to check $x^0, x^1, \\ldots, x^r$ until we get $x^r \\equiv 1 (\\text{ mod } N)$. Finding this period is very heavy on computing time (typically grows large as $N$ grows large).\n",
    "\n",
    "Can we create a super-position of a set of natural numbers, then collapse the possible numbers to a unique set of $\\left\\{x^0(\\text{ mod } N), x^1 (\\text{ mod } N), \\ldots, x^M (\\text{ mod } N) \\right\\}$?"
   ]
  },
  {
   "cell_type": "markdown",
   "id": "4e7c64b9-4c77-4652-946e-4833909f2a51",
   "metadata": {},
   "source": [
    "Due to non-cloning theorem, we cannot simply $\\textit{copy}$ a state to another state. We will create a dummy qubits (ancilla bits) that mimics modulo operation. let $f(x) = a^x (\\text{ mod } N)$, then we have this nice property:\n",
    "- $f:\\{0,1,\\ldots,r-1\\} \\rightarrow \\{a^0(\\text{ mod } N), a^1 (\\text{ mod } N), \\ldots, a^{r-1}(\\text{ mod } N)\\}$\n",
    "- $f:\\{r,r+1,\\ldots,2r-1\\} \\rightarrow \\{a^0(\\text{ mod } N), a^1 (\\text{ mod } N), \\ldots, a^{r-1}(\\text{ mod } N)\\}$\n",
    "- and so on...\n",
    "\n",
    "$f(x)$ is a periodic function with order $r$.\n",
    "\n",
    "We can create an oracle that takes $\\ket{x}\\ket{0} \\rightarrow \\ket{x}\\ket{f(x)}$ using the ancilla bits, and becuase the state is engangled, we can measure the possible states of $\\ket{f(x)}$ which will result in $\\ket{x}$ to only be a number that will result in the same remainder $\\{x \\mid a^x(\\text{ mod } N) = q \\}$, for some $q\\in\\{a^0(\\text{ mod } N), a^1 (\\text{ mod } N), \\ldots, a^{r-1}(\\text{ mod } N)\\}$. We want to transform this basis so it starts from $0 (\\text{ mod }N)$ but perserving the period (order). We can do this by applying the inverse Fourier transformation. Once we transformed it to a new basis, we can measure the state $\\ket{x}$, which will output some multiple of $\\frac{N}{r}$."
   ]
  },
  {
   "cell_type": "code",
   "execution_count": 37,
   "id": "c1b666ed-76eb-4601-8789-a82de98381d4",
   "metadata": {},
   "outputs": [],
   "source": [
    "from qiskit import QuantumCircuit, Aer, execute\n",
    "from qiskit.visualization import plot_histogram\n",
    "import numpy as np"
   ]
  },
  {
   "cell_type": "code",
   "execution_count": 8,
   "id": "2199cbf1-7e26-4a49-a311-a6954eb2f39d",
   "metadata": {},
   "outputs": [],
   "source": [
    "%matplotlib inline"
   ]
  },
  {
   "cell_type": "code",
   "execution_count": 9,
   "id": "9c640e25-25da-45d1-89f1-97220ece3e2a",
   "metadata": {},
   "outputs": [
    {
     "data": {
      "text/plain": [
       "15"
      ]
     },
     "execution_count": 9,
     "metadata": {},
     "output_type": "execute_result"
    }
   ],
   "source": [
    "N"
   ]
  },
  {
   "cell_type": "code",
   "execution_count": 22,
   "id": "32ab2a0d-c2bc-4387-a447-19e395f8426d",
   "metadata": {},
   "outputs": [],
   "source": [
    "m = 7"
   ]
  },
  {
   "cell_type": "code",
   "execution_count": 30,
   "id": "e0efd4d2-4350-471f-a843-c1730428aaf9",
   "metadata": {},
   "outputs": [],
   "source": [
    "def mmod15(m, power):\n",
    "    \"\"\"\n",
    "    Controlled multiplication by m mod 15\n",
    "    Modulos function is specific to a as far as I am aware,\n",
    "    but if this changes (hopefully it does), then we can implement the \n",
    "    generalized version.\n",
    "    \"\"\"\n",
    "    if m not in [2,7,8,11,13]:\n",
    "        raise ValueError(\"'m' must be 2,7,8,11 or 13\")\n",
    "    U = QuantumCircuit(n)        \n",
    "    for iteration in range(power):\n",
    "        if m in [2,13]:\n",
    "            U.swap(0,1)\n",
    "            U.swap(1,2)\n",
    "            U.swap(2,3)\n",
    "        if m in [7,8]:\n",
    "            U.swap(2,3)\n",
    "            U.swap(1,2)\n",
    "            U.swap(0,1)\n",
    "        if m == 11:\n",
    "            U.swap(1,3)\n",
    "            U.swap(0,2)\n",
    "        if m in [7,11,13]:\n",
    "            for q in range(4):\n",
    "                U.x(q)\n",
    "    U = U.to_gate()\n",
    "    U.name = \"%i^%i mod 15\" % (m, power)\n",
    "    c_U = U.control()\n",
    "    return c_U"
   ]
  },
  {
   "cell_type": "code",
   "execution_count": 31,
   "id": "78775730-6aee-4cc6-a0d7-41ee7236cb7b",
   "metadata": {},
   "outputs": [],
   "source": [
    "def qft_dagger(n):\n",
    "    qc = QuantumCircuit(n)\n",
    "    for qubit in range(n//2):\n",
    "        # swap the gates\n",
    "        qc.swap(qubit, n-qubit-1)\n",
    "    for j in range(n):\n",
    "        for m in range(j):\n",
    "            # perform a controlled inverse-rotation\n",
    "            qc.cp(-np.pi/float(2**(j-m)), m, j)\n",
    "        # add the hardamond gate at the end\n",
    "        qc.h(j)\n",
    "    qc.name = \"QFT†\"\n",
    "    return qc"
   ]
  },
  {
   "cell_type": "code",
   "execution_count": 50,
   "id": "d1c08924-cbdd-4613-84b8-8b98055e2a62",
   "metadata": {},
   "outputs": [
    {
     "data": {
      "image/png": "[encoded data removed]",
      "text/plain": [
       "<Figure size 1350.8x565.88 with 1 Axes>"
      ]
     },
     "execution_count": 50,
     "metadata": {},
     "output_type": "execute_result"
    }
   ],
   "source": [
    "# find the amount of binary variables required to express N\n",
    "n = len(format(N, 'b'))\n",
    "\n",
    "# create a circuit with n qubits and n ancilla qubits\n",
    "qc = QuantumCircuit(2*n,n)\n",
    "\n",
    "# first super-position all qubits so we have a uniform distribution for all possible numbers (in binary format)\n",
    "for q in range(n):\n",
    "    qc.h(q)\n",
    "    \n",
    "# add auxiliary register\n",
    "qc.x(n+3)\n",
    "\n",
    "qc.barrier()\n",
    "\n",
    "# Do controlled-U operations\n",
    "for q in range(n):\n",
    "    qc.append(mmod15(m, 2**q), \n",
    "             [q] + [i+n for i in range(4)])\n",
    "qc.barrier()\n",
    "# Do inverse-QFT\n",
    "qc.append(qft_dagger(n), range(n))\n",
    "\n",
    "# Measure circuit\n",
    "qc.measure(range(n), range(n))\n",
    "qc.draw('mpl')"
   ]
  },
  {
   "cell_type": "code",
   "execution_count": 51,
   "id": "ab9d6b36-c70e-4c54-9c1c-6d55ec50a9c1",
   "metadata": {},
   "outputs": [],
   "source": [
    "from matplotlib import pyplot as plt"
   ]
  },
  {
   "cell_type": "code",
   "execution_count": 52,
   "id": "cda27177-7118-4fa8-bd96-3d545e916cc0",
   "metadata": {},
   "outputs": [
    {
     "data": {
      "image/png": "[encoded data removed]",
      "text/plain": [
       "<Figure size 504x360 with 1 Axes>"
      ]
     },
     "execution_count": 52,
     "metadata": {},
     "output_type": "execute_result"
    }
   ],
   "source": [
    "backend = Aer.get_backend('qasm_simulator')\n",
    "shots = 10000\n",
    "result = execute(qc, backend=backend, shots = shots).result()\n",
    "counts = result.get_counts(qc)\n",
    "plot_histogram(counts)"
   ]
  },
  {
   "cell_type": "code",
   "execution_count": 95,
   "id": "41958913-03d1-481f-8312-5bfa86f984b7",
   "metadata": {},
   "outputs": [
    {
     "name": "stdout",
     "output_type": "stream",
     "text": [
      "state 12 has prob 0.245\n",
      "gcd between 2^n and the state is 4\n",
      "period is even\n",
      "N can be decomposed as 5 and 3\n",
      "\n",
      "state 4 has prob 0.251\n",
      "gcd between 2^n and the state is 4\n",
      "period is even\n",
      "N can be decomposed as 5 and 3\n",
      "\n",
      "state 0 has prob 0.255\n",
      "gcd between 2^n and the state is 16\n",
      "period is even\n",
      "state 0 can't find any feasible solution, try with another state or another m\n",
      "\n",
      "state 8 has prob 0.25\n",
      "gcd between 2^n and the state is 2\n",
      "period is even\n",
      "possible factors are: 3 and 5\n",
      "\n"
     ]
    }
   ],
   "source": [
    "for state, freq in counts.items():\n",
    "    state = int(state,2)\n",
    "    freq /= shots\n",
    "    r = math.gcd(2**n,state)\n",
    "    if state != 0:\n",
    "        if float(int(2**n / state)) == float(2**n / state):\n",
    "            r = int(2**n / state)\n",
    "    print(f\"state {state} has prob {round(freq, 3)}\")\n",
    "    print(f\"gcd between 2^n and the state is {r}\")\n",
    "    if r % 2 == 0:\n",
    "        x_plus  = int(m**(r/2)+1)\n",
    "        x_minus = int(m**(r/2)-1)\n",
    "        factor_plus  = math.gcd(N, x_plus)\n",
    "        factor_minus = math.gcd(N, x_minus)\n",
    "        print(\"period is even\")\n",
    "        \n",
    "        if factor_plus != 1 and factor_minus != 1:\n",
    "            print(f\"N can be decomposed as {factor_plus} and {factor_minus}\")\n",
    "        else:\n",
    "            factor = max(factor_plus, factor_minus)\n",
    "            other_factor = int(N/factor)\n",
    "            if factor != N:\n",
    "                print(f\"possible factors are: {factor} and {other_factor}\")\n",
    "            else:\n",
    "                print(f\"state {state} can't find any feasible solution, try with another state or another m\")\n",
    "    print()"
   ]
  }
 ],
 "metadata": {
  "kernelspec": {
   "display_name": "Python 3 (ipykernel)",
   "language": "python",
   "name": "python3"
  },
  "language_info": {
   "codemirror_mode": {
    "name": "ipython",
    "version": 3
   },
   "file_extension": ".py",
   "mimetype": "text/x-python",
   "name": "python",
   "nbconvert_exporter": "python",
   "pygments_lexer": "ipython3",
   "version": "3.8.12"
  }
 },
 "nbformat": 4,
 "nbformat_minor": 5
}
